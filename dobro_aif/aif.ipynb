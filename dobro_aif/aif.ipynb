{
 "cells": [
  {
   "cell_type": "markdown",
   "id": "0e23595f-1f8c-4eab-ae66-e7e6f77dba87",
   "metadata": {},
   "source": [
    "# Проект: АиФ Доброе сердце (ETL/витрина данных)  \r\n",
    "\r\n",
    "**Заказчик:** Фонд «АиФ. Доброе сердце»  \r\n",
    "Фонд был создан в 2005-м году по инициативе еженедельной газеты «Аргументы и факты». За эти годы больше 10 тысяч подопечных со сложными диагнозами получили помощь с оплатой операций, лекарств и медоборудования. Фонд помогает тяжелобольным детям и взрослым из разных регионов России, а также развивает проекты по всесторонней поддержке подопечных семей — чтобы никто не оставался наедине с болезнью.  \r\n",
    "\r\n",
    "**Цель проекта:** Фонд хочет лучше узнать своих благотворителей для более эффективной работы. Для этого основной задачей будет проведения RFM-анализа, когортного анализа (retention, LTV, средний чек), а также расчет основных маркетинговых и продуктовых мет ей.  \r\n",
    "\r\n",
    "**Используемые библиотеки:**\r\n",
    " "
   ]
  },
  {
   "cell_type": "code",
   "execution_count": null,
   "id": "4d025e4c-6b23-40c2-8bf7-a0711d914763",
   "metadata": {},
   "outputs": [],
   "source": [
    "import os\n",
    "from dotenv import load_dotenv, find_dotenv\n",
    "from sqlalchemy import text, create_engine \n",
    "import pandas as pd\n",
    "import yadisk\n",
    "from tqdm import tqdm"
   ]
  },
  {
   "cell_type": "markdown",
   "id": "9b76a9cb-5c62-4583-96e3-5757cb7afa1b",
   "metadata": {},
   "source": [
    "## Подключение к Яндекс диску и БД"
   ]
  },
  {
   "cell_type": "code",
   "execution_count": null,
   "id": "b59249f3-dae9-4dbc-8738-b34442dd9ba0",
   "metadata": {},
   "outputs": [],
   "source": [
    "# загрузка переменной окружения с кодами доступа\n",
    "load_dotenv(find_dotenv())               "
   ]
  },
  {
   "cell_type": "code",
   "execution_count": null,
   "id": "b622129e-9ff9-4f6b-89f7-4c35dea762bc",
   "metadata": {},
   "outputs": [],
   "source": [
    "# подключение к Яндекс Диску\n",
    "APP_ID = os.getenv('app_id')\n",
    "SECRET_ID = os.getenv('secret_id')\n",
    "TOKEN = os.getenv('ya_token')\n",
    "y = yadisk.YaDisk(APP_ID, SECRET_ID, TOKEN)\n",
    "y.check_token()"
   ]
  },
  {
   "cell_type": "code",
   "execution_count": null,
   "id": "b9f909d7-d839-47df-8710-ca190fd3bfd4",
   "metadata": {},
   "outputs": [],
   "source": [
    "# подключение к БД\n",
    "db_config = {'user': os.getenv('USER'),                       \n",
    "             'pwd': os.getenv('PASSWORD'),                           \n",
    "             'host': os.getenv('HOST'),\n",
    "             'port': os.getenv('PORT'),                                        \n",
    "             'db': os.getenv('DATABASE')}    \n",
    "\n",
    "engine = create_engine(\"postgresql+psycopg2://{user}:{pwd}@{host}:{port}/{db}\".format(**db_config))\n",
    "conn = engine.connect()"
   ]
  },
  {
   "cell_type": "markdown",
   "id": "41f2c929-a9e8-4d4d-91aa-8ed4cdc4c679",
   "metadata": {},
   "source": [
    "## Загрузка и предобработка данных"
   ]
  },
  {
   "cell_type": "code",
   "execution_count": null,
   "id": "1cf6e250-39fd-46cb-ade8-ffe95886b4a3",
   "metadata": {},
   "outputs": [],
   "source": [
    "# создание списка файлов формата .csv на загрузку\n",
    "list_of_files = []\n",
    "for el in list(y.listdir('AIF')):\n",
    "  if el['path'].endswith('.csv'):\n",
    "    list_of_files.append(el['path'])"
   ]
  },
  {
   "cell_type": "code",
   "execution_count": null,
   "id": "9eb9598e-b5ec-484c-ac6c-7c815189bfab",
   "metadata": {},
   "outputs": [],
   "source": [
    "# определение пути загрузки\n",
    "load_path = \"C:/Users/aif/\"\n",
    "if not os.path.exists(load_path):\n",
    "    os.mkdir(load_path)\n",
    "os.chdir(load_path)"
   ]
  },
  {
   "cell_type": "code",
   "execution_count": null,
   "id": "09bdb0ce-5736-49c2-b24c-70349611b5c2",
   "metadata": {},
   "outputs": [],
   "source": [
    "# скачивание файла, если он не был загружен ранее\n",
    "for file in tqdm(list_of_files):\n",
    "    if file.split('/')[-1] not in os.listdir():\n",
    "        y.download(file.split(':')[1], file.split('/')[-1])\n",
    "    else:\n",
    "        continue"
   ]
  },
  {
   "cell_type": "code",
   "execution_count": null,
   "id": "847d9988-98bb-4b32-ae0f-bbf0783eea99",
   "metadata": {},
   "outputs": [],
   "source": [
    "# загрузка файла со списком загруженных ранее датасетов\n",
    "loaded = open('loaded.txt', 'a')"
   ]
  },
  {
   "cell_type": "code",
   "execution_count": null,
   "id": "ff542f2c-540f-42a3-b6d0-6ee7bbaa433a",
   "metadata": {},
   "outputs": [],
   "source": [
    "# формирование датасетов из файлов при условии, что они не были скачены и загружены ранее\n",
    "\n",
    "actions = []\n",
    "orders = []\n",
    "loaded_files = []\n",
    "\n",
    "list_of_files = list(map(lambda x: x.split('/')[-1], list_of_files))\n",
    "\n",
    "for file in tqdm(list_of_files):\n",
    "    if file not in open('loaded.txt', 'r+').read():\n",
    "        if 'actions' in file:\n",
    "            df = pd.read_csv(file, sep=';')\n",
    "            actions.append(df)\n",
    "            loaded_files.append(file)\n",
    "        else:\n",
    "            df = pd.read_csv(file, sep=';')\n",
    "            orders.append(df)\n",
    "            loaded_files.append(file)"
   ]
  },
  {
   "cell_type": "code",
   "execution_count": null,
   "id": "30924adf-d43b-41bb-ab7a-abf64ce2b3c5",
   "metadata": {},
   "outputs": [],
   "source": [
    "# создание записи о том, что файл загружен в датасет\n",
    "\n",
    "for file in loaded_files:\n",
    "    loaded.write(f\"{file}\\n\")"
   ]
  },
  {
   "cell_type": "code",
   "execution_count": null,
   "id": "63705319-a8bb-458a-bbb9-fb524813289f",
   "metadata": {},
   "outputs": [],
   "source": [
    "# объединение датасетов\n",
    "try:\n",
    "    actions_df = pd.concat(actions, ignore_index=True)\n",
    "    orders_df = pd.concat(orders, ignore_index=True)\n",
    "except Exception as e:\n",
    "    print(e)"
   ]
  },
  {
   "cell_type": "code",
   "execution_count": null,
   "id": "b2cd1ff2-fad8-452e-ac17-9ae67e9c1fac",
   "metadata": {},
   "outputs": [],
   "source": [
    "# удаление полных дубликатов\n",
    "try:\n",
    "    actions_df = actions_df.drop_duplicates(keep='last').reset_index(drop=True)\n",
    "    orders_df = orders_df.drop_duplicates(keep='last').reset_index(drop=True)\n",
    "except Exception as e:\n",
    "    print(e)"
   ]
  },
  {
   "cell_type": "code",
   "execution_count": null,
   "id": "6120720d-547a-4253-b009-59a829282afd",
   "metadata": {},
   "outputs": [],
   "source": [
    "# удаление лишних столбцов\n",
    "try: \n",
    "    actions_df = actions_df.drop(columns=['CustomerActionActionTemplateIdsSystemName',\n",
    "                  'CustomerActionBrandIdsSystemName', \n",
    "                  'CustomerActionChannelIdsSystemName',\n",
    "                  'CustomerActionCustomerIdsBackendID', \n",
    "                  'CustomerActionCustomerIdsWebsiteID'])\n",
    "    orders_df = orders_df.drop(columns=['OrderAreaIdsExternalId',\n",
    "                                       'OrderTransactionIdsExternalId',\n",
    "                                       'OrderIdsBackendID',\n",
    "                                       'OrderCustomFieldsNextPayDate',\n",
    "                                       'OrderLineGiftCardAmount',\n",
    "                                       'OrderLineGiftCardStatusIdsSystemName',\n",
    "                                       'OrderLineId',\n",
    "                                       'OrderLineLineId',\n",
    "                                       'OrderCustomerIdsBackendID',\n",
    "                                       'OrderCustomerIdsWebsiteID'])\n",
    "except Exception as e:\n",
    "    print(e)"
   ]
  },
  {
   "cell_type": "code",
   "execution_count": null,
   "id": "7964239d-da50-441b-a8b7-9213096cdccb",
   "metadata": {},
   "outputs": [],
   "source": [
    "# приведение типов данных\n",
    "try:\n",
    "    actions_df['CustomerActionDateTimeUtc'] = actions_df['CustomerActionDateTimeUtc'].apply(lambda x: x.split(' ')[0])\n",
    "    actions_df['CustomerActionDateTimeUtc'] = pd.to_datetime(actions_df['CustomerActionDateTimeUtc'], format='%d.%m.%Y')\n",
    "    actions_df['CustomerActionCreationDateTimeUtc'] = actions_df['CustomerActionCreationDateTimeUtc'].apply(lambda x: x.split(' ')[0])\n",
    "    actions_df['CustomerActionCreationDateTimeUtc'] = pd.to_datetime(actions_df['CustomerActionCreationDateTimeUtc'], format='%d.%m.%Y')\n",
    "\n",
    "    orders_df['OrderFirstActionDateTimeUtc'] = orders_df['OrderFirstActionDateTimeUtc'].apply(lambda x: x.split(' ')[0])\n",
    "    orders_df['OrderFirstActionDateTimeUtc'] = pd.to_datetime(orders_df['OrderFirstActionDateTimeUtc'], format='%d.%m.%Y')\n",
    "except Exception as e:\n",
    "    print(e)"
   ]
  },
  {
   "cell_type": "markdown",
   "id": "0ae5ef1e-b533-402b-b09a-031d02497012",
   "metadata": {},
   "source": [
    "## Загрузка данных в БД"
   ]
  },
  {
   "cell_type": "code",
   "execution_count": null,
   "id": "d907131c-b186-43cc-9db7-763fc935ac0d",
   "metadata": {},
   "outputs": [],
   "source": [
    "# загрузка датасета actions\n",
    "try:\n",
    "    actions_df.to_sql('actions', con=conn, index=False, if_exists='append')\n",
    "except Exception as e:\n",
    "    print(e)"
   ]
  },
  {
   "cell_type": "code",
   "execution_count": null,
   "id": "6388cc2d-e8b2-4108-a1cf-2cedccb0a127",
   "metadata": {},
   "outputs": [],
   "source": [
    "# загрузка датасета orders\n",
    "try:\n",
    "    orders_df.to_sql('orders', con=conn, index=False, if_exists='append')\n",
    "except Exception as e:\n",
    "    print(e)"
   ]
  },
  {
   "cell_type": "code",
   "execution_count": null,
   "id": "44db6a7e-ad05-46ad-97df-6baefbd9a799",
   "metadata": {},
   "outputs": [],
   "source": [
    "# функция для чтения запросов к БД\n",
    "def sql_query(query):\n",
    "    return pd.io.sql.read_sql(sql=text(query), con = conn)"
   ]
  },
  {
   "cell_type": "markdown",
   "id": "9226884e-528e-46f6-b958-d67f431a65d6",
   "metadata": {},
   "source": [
    "### Выделение RFM-сегментов\n",
    "\n",
    "RFM-сегментация проводится только среди действующих жертвователей, то есть по таблице orders_df"
   ]
  },
  {
   "cell_type": "code",
   "execution_count": null,
   "id": "372bfcf5-df31-4920-a35e-215639bedddf",
   "metadata": {},
   "outputs": [],
   "source": [
    "rfm = \"\"\"WITH base AS (SELECT \"OrderCustomerIdsMindboxId\", \n",
    "                     \"OrderFirstActionDateTimeUtc\", \n",
    "                     \"OrderLinePriceOfLine\"\n",
    "              FROM orders\n",
    "              WHERE \"OrderLineStatusIdsExternalId\" = 'Paid'),\n",
    "fm_base AS (SELECT \"OrderCustomerIdsMindboxId\" AS usr,\n",
    "              SUM(\"OrderLinePriceOfLine\") AS monetary,\n",
    "              COUNT(\"OrderLinePriceOfLine\") AS frequency\n",
    "              FROM base\n",
    "              GROUP BY \"OrderCustomerIdsMindboxId\"),\n",
    "f AS (SELECT PERCENTILE_DISC(0.30) WITHIN GROUP (ORDER BY frequency) AS fr_fs,\n",
    "             PERCENTILE_DISC(0.70) WITHIN GROUP (ORDER BY frequency) AS fr_sn\n",
    "       FROM fm_base),\n",
    "m AS (SELECT PERCENTILE_DISC(0.30) WITHIN GROUP (ORDER BY monetary) AS mn_fs,\n",
    "             PERCENTILE_DISC(0.70) WITHIN GROUP (ORDER BY monetary) AS mn_sn\n",
    "       FROM fm_base),\n",
    "rec AS (SELECT DISTINCT \"OrderCustomerIdsMindboxId\" AS usr,\n",
    "             LAST_VALUE(\"OrderFirstActionDateTimeUtc\") OVER(PARTITION BY \"OrderCustomerIdsMindboxId\" ORDER BY \"OrderFirstActionDateTimeUtc\" RANGE BETWEEN UNBOUNDED PRECEDING AND UNBOUNDED FOLLOWING) AS last_date,\n",
    "             MAX(\"OrderFirstActionDateTimeUtc\") OVER() AS max_date\n",
    "             FROM base),\n",
    "for_rfm AS (SELECT rec.usr,\n",
    "                   last_date,\n",
    "                   max_date - last_date AS recency,\n",
    "                   fm_base.monetary AS monetary,\n",
    "                   fm_base.frequency AS frequency\n",
    "            FROM rec\n",
    "            JOIN fm_base ON rec.usr = fm_base.usr),\n",
    "r AS (SELECT PERCENTILE_DISC(0.30) WITHIN GROUP (ORDER BY recency) AS r_fs,\n",
    "             PERCENTILE_DISC(0.70) WITHIN GROUP (ORDER BY recency) AS r_sn\n",
    "       FROM for_rfm),\n",
    "rfm AS (SELECT usr,\n",
    "               last_date,\n",
    "               recency,\n",
    "               CASE WHEN recency <= (SELECT r_fs FROM r) THEN '1'\n",
    "                    WHEN recency <= (select r_sn FROM r) THEN '2'\n",
    "                    ELSE '3' \n",
    "                    END AS R,\n",
    "               frequency,\n",
    "               CASE WHEN frequency <= (SELECT fr_fs FROM f) THEN '3'\n",
    "                    WHEN frequency <= (select fr_sn FROM f) THEN '2'\n",
    "                    ELSE '1' \n",
    "                    END AS F,\n",
    "               monetary,\n",
    "               CASE WHEN monetary <= (SELECT mn_fs FROM m) THEN '3'\n",
    "                    WHEN monetary <= (SELECT mn_sn FROM m) THEN '2'\n",
    "                    ELSE '1' \n",
    "                    END AS M\n",
    "        FROM for_rfm)\n",
    "SELECT usr,\n",
    "       EXTRACT(DAYS FROM recency)::int as recency,\n",
    "       frequency,\n",
    "       monetary,\n",
    "       CONCAT(R,F,M) AS RFM\n",
    "FROM rfm\"\"\"\n",
    "\n",
    "\n",
    "rfm_segment = sql_query(rfm)"
   ]
  },
  {
   "cell_type": "code",
   "execution_count": null,
   "id": "1aaa9ee7-47fe-4fcf-ae83-6b710f57900c",
   "metadata": {},
   "outputs": [],
   "source": [
    "rfm_segment"
   ]
  },
  {
   "cell_type": "markdown",
   "id": "d4ec8103-f8bd-4aa5-b18c-aa0e3f0ed1fc",
   "metadata": {},
   "source": [
    "## Retention"
   ]
  },
  {
   "cell_type": "code",
   "execution_count": null,
   "id": "d7f202cc-f1c4-4954-a4ad-a97430907721",
   "metadata": {},
   "outputs": [],
   "source": [
    "# n-month retention\n",
    "retention = \"\"\"WITH sessions AS (SELECT \"CustomerActionCustomerIdsMindboxId\" AS usr,\n",
    "                                    MIN(date_trunc('month',\"CustomerActionDateTimeUtc\"::date)) OVER (PARTITION BY \"CustomerActionCustomerIdsMindboxId\") AS cohort,\n",
    "                                    date_trunc('month',\"CustomerActionDateTimeUtc\"::date) AS mth                         \n",
    "                             FROM actions),\n",
    "                cohorts AS (SELECT cohort::date as cohort,\n",
    "                                   mth,\n",
    "                                   COUNT(DISTINCT usr) as cnt\n",
    "                            FROM sessions\n",
    "                            GROUP BY cohort, mth\n",
    "                            ORDER BY cohort, mth)\n",
    "SELECT cohort,\n",
    "       ROW_NUMBER() OVER(PARTITION BY cohort ORDER BY mth) - 1 AS mth,\n",
    "       ROUND(cnt::numeric / MAX(cnt) OVER(PARTITION BY cohort)::numeric, 4) *100 AS n_month_retention\n",
    "FROM cohorts\n",
    "\"\"\"\n",
    "\n",
    "n_mth_retention = sql_query(retention)"
   ]
  },
  {
   "cell_type": "code",
   "execution_count": null,
   "id": "061aa0bf-ad97-47cd-a78e-13a7ff198ef9",
   "metadata": {},
   "outputs": [],
   "source": [
    "n_mth_retention"
   ]
  },
  {
   "cell_type": "markdown",
   "id": "ab69ccb4-811c-4515-b026-8afcc1a50cf3",
   "metadata": {},
   "source": [
    "## Churn rate"
   ]
  },
  {
   "cell_type": "code",
   "execution_count": null,
   "id": "b2c7abd6-1686-43b1-b8a0-f611c181f552",
   "metadata": {},
   "outputs": [],
   "source": [
    "churn = \"\"\"WITH profiles AS (SELECT \"CustomerActionCustomerIdsMindboxId\" AS usr,\n",
    "                         MIN(DATE_TRUNC('month', \"CustomerActionDateTimeUtc\"))::date AS cohort\n",
    "                  FROM actions\n",
    "                  GROUP BY \"CustomerActionCustomerIdsMindboxId\"),\n",
    "     cohorts AS (SELECT cohort,\n",
    "                        DATE_TRUNC('month', a.\"CustomerActionDateTimeUtc\")::date AS event_mth,\n",
    "                        COUNT(DISTINCT a.\"CustomerActionCustomerIdsMindboxId\") AS cnt\n",
    "                 FROM profiles AS p\n",
    "                 JOIN actions AS a ON p.usr = a.\"CustomerActionCustomerIdsMindboxId\"\n",
    "                 GROUP BY cohort, event_mth)\n",
    "SELECT *,\n",
    "       LAG(cnt) OVER(PARTITION BY cohort ORDER BY event_mth),\n",
    "       COALESCE(ROUND((1 - (cnt::NUMERIC / LAG(cnt) OVER(PARTITION BY cohort ORDER BY event_mth)))*100, 2), 0) AS churn\n",
    "FROM cohorts\n",
    "\"\"\"\n",
    "churn_rate = sql_query(churn)"
   ]
  },
  {
   "cell_type": "code",
   "execution_count": null,
   "id": "c4de118e-cae2-43d2-8ff3-6b1d08fcde71",
   "metadata": {},
   "outputs": [],
   "source": [
    "churn_rate"
   ]
  },
  {
   "cell_type": "markdown",
   "id": "4ac06818-0ad2-475f-82c5-fcf89d7eb461",
   "metadata": {},
   "source": [
    "## LTV"
   ]
  },
  {
   "cell_type": "code",
   "execution_count": null,
   "id": "1ed82139-7564-4c44-b506-0908ea50006b",
   "metadata": {},
   "outputs": [],
   "source": [
    "ltv = \"\"\"WITH profiles AS (SELECT \"CustomerActionCustomerIdsMindboxId\" AS usr,\n",
    "                                  MIN(DATE_TRUNC('month', \"CustomerActionDateTimeUtc\"))::date AS cohort\n",
    "                           FROM actions\n",
    "                           GROUP BY \"CustomerActionCustomerIdsMindboxId\"),\n",
    "              cohorts AS (SELECT p.cohort,\n",
    "                                 DATE_TRUNC('month', o.\"OrderFirstActionDateTimeUtc\")::date AS event_mth,\n",
    "                                 COUNT(p.usr) OVER (PARTITION BY p.cohort) AS cnt,\n",
    "                                 SUM(o.\"OrderLinePriceOfLine\") OVER (PARTITION BY p.cohort ORDER BY (DATE_TRUNC('month', o.\"OrderFirstActionDateTimeUtc\")::date)) AS summa\n",
    "                          FROM profiles AS p\n",
    "                          JOIN orders AS o ON p.usr = o.\"OrderCustomerIdsMindboxId\" \n",
    "                                           AND o.\"OrderLineStatusIdsExternalId\" LIKE 'Paid'),\n",
    "              ltv_tbl AS (SELECT cohort,\n",
    "                                 event_mth,\n",
    "                                 ROUND(MAX(summa) / MAX(cnt), 2) AS ltv\n",
    "                          FROM cohorts\n",
    "                          GROUP BY cohort, event_mth)\n",
    "SELECT cohort,\n",
    "       ROW_NUMBER() OVER (PARTITION BY cohort ORDER BY event_mth) - 1 AS mth,\n",
    "       ltv\n",
    "FROM ltv_tbl\n",
    "\"\"\"\n",
    "ltv = sql_query(ltv)"
   ]
  },
  {
   "cell_type": "code",
   "execution_count": null,
   "id": "a6dd5e30-f32c-43b6-a2ad-4311a356fcb6",
   "metadata": {},
   "outputs": [],
   "source": [
    "ltv"
   ]
  },
  {
   "cell_type": "markdown",
   "id": "f341ffc1-2a6a-434e-8c2c-9c46e0829f90",
   "metadata": {},
   "source": [
    "## Average order value (AOV)"
   ]
  },
  {
   "cell_type": "code",
   "execution_count": null,
   "id": "db53cb71-6e14-41c1-a73e-86db2880b302",
   "metadata": {},
   "outputs": [],
   "source": [
    "aov = \"\"\"WITH profiles AS (SELECT \"CustomerActionCustomerIdsMindboxId\" AS usr,\n",
    "                                  MIN(DATE_TRUNC('month', \"CustomerActionDateTimeUtc\"))::date AS cohort\n",
    "                           FROM actions\n",
    "                           GROUP BY \"CustomerActionCustomerIdsMindboxId\"), \n",
    "              cohorts AS (SELECT p.cohort,\n",
    "                                 DATE_TRUNC('month', o.\"OrderFirstActionDateTimeUtc\")::date AS event_mth,\n",
    "                                 COUNT(o.\"OrderIdsMindboxId\") AS cnt,\n",
    "                                 SUM(o.\"OrderLinePriceOfLine\") AS summa\n",
    "                          FROM profiles p\n",
    "                          LEFT JOIN orders o ON p.usr = o.\"OrderCustomerIdsMindboxId\" \n",
    "                                             AND o.\"OrderLineStatusIdsExternalId\" like 'Paid'::text\n",
    "                          GROUP BY p.cohort, (date_trunc('month', o.\"OrderFirstActionDateTimeUtc\")::date))\n",
    " SELECT cohort,\n",
    "        ROW_NUMBER() OVER (PARTITION BY cohort ORDER BY event_mth) - 1 AS mth,\n",
    "        ROUND(summa /cnt, 2) AS aov\n",
    "        FROM cohorts\"\"\"\n",
    "\n",
    "aov = sql_query(aov)"
   ]
  },
  {
   "cell_type": "code",
   "execution_count": null,
   "id": "cc93db4e-b966-405e-849d-03c25623c2c6",
   "metadata": {},
   "outputs": [],
   "source": [
    "aov"
   ]
  },
  {
   "cell_type": "markdown",
   "id": "ee956330-84da-451c-a871-a5abeadb577b",
   "metadata": {},
   "source": [
    "## MAU, WAU, DAU, sticky factor"
   ]
  },
  {
   "cell_type": "code",
   "execution_count": null,
   "id": "cafa5067-8f1c-4621-b4fe-6ef86a81c971",
   "metadata": {},
   "outputs": [],
   "source": [
    "mau = \"\"\"SELECT date_trunc('month',\"CustomerActionDateTimeUtc\")::date AS mth,\n",
    "                COUNT(DISTINCT \"CustomerActionCustomerIdsMindboxId\") AS cnt\n",
    "         FROM actions\n",
    "        GROUP BY date_trunc('month',\"CustomerActionDateTimeUtc\")::date\n",
    "        ORDER BY mth\"\"\"\n",
    "wau = \"\"\"SELECT EXTRACT(YEAR FROM \"CustomerActionDateTimeUtc\") AS yr,\n",
    "                EXTRACT(WEEK FROM \"CustomerActionDateTimeUtc\") AS wk,\n",
    "                COUNT(DISTINCT \"CustomerActionCustomerIdsMindboxId\") AS cnt\n",
    "         FROM actions\n",
    "         GROUP BY EXTRACT(YEAR FROM \"CustomerActionDateTimeUtc\"), EXTRACT(WEEK FROM \"CustomerActionDateTimeUtc\")\n",
    "         ORDER BY yr, wk\"\"\"\n",
    "dau = \"\"\"SELECT \"CustomerActionDateTimeUtc\"::date AS dt,\n",
    "                 COUNT(DISTINCT \"CustomerActionCustomerIdsMindboxId\") AS cnt\n",
    "         FROM actions\n",
    "         GROUP BY \"CustomerActionDateTimeUtc\"::date\n",
    "         ORDER BY dt\"\"\"\n",
    "sticky_factor = \"\"\"WITH mau AS (SELECT date_trunc('month',\"CustomerActionDateTimeUtc\")::date AS mth,\n",
    "                                       COUNT(DISTINCT \"CustomerActionCustomerIdsMindboxId\") AS cnt\n",
    "                                FROM actions\n",
    "                                GROUP BY date_trunc('month',\"CustomerActionDateTimeUtc\")::date),\n",
    "                        dau AS (SELECT \"CustomerActionDateTimeUtc\"::date AS dt,\n",
    "                                       COUNT(DISTINCT \"CustomerActionCustomerIdsMindboxId\") AS cnt\n",
    "                                FROM actions\n",
    "                                GROUP BY \"CustomerActionDateTimeUtc\"::date\n",
    "                                ORDER BY dt),\n",
    "                        avgdau AS (SELECT date_trunc('month', dt) AS mth,\n",
    "                                          avg(cnt) AS cnt\n",
    "                                   FROM dau\n",
    "                                   GROUP BY date_trunc('month', dt))\n",
    "                  SELECT m.mth,\n",
    "                         round(a.cnt/m.cnt * 100, 2) AS sticky_factor\n",
    "                  FROM mau AS m\n",
    "                  JOIN avgdau AS a ON m.mth = a.mth\"\"\""
   ]
  },
  {
   "cell_type": "code",
   "execution_count": null,
   "id": "61d799b5-e2c6-48eb-afff-b5e595caa750",
   "metadata": {},
   "outputs": [],
   "source": [
    "mau = sql_query(mau)\n",
    "wau = sql_query(wau)\n",
    "dau = sql_query(dau)\n",
    "sticky_factor = sql_query(sticky_factor)"
   ]
  },
  {
   "cell_type": "code",
   "execution_count": null,
   "id": "dca8f582-5571-4eee-b04d-64044e8f0676",
   "metadata": {},
   "outputs": [],
   "source": [
    "mau"
   ]
  },
  {
   "cell_type": "code",
   "execution_count": null,
   "id": "4b161055-ebd2-4472-b2de-74fb7ec6c359",
   "metadata": {},
   "outputs": [],
   "source": [
    "wau"
   ]
  },
  {
   "cell_type": "code",
   "execution_count": null,
   "id": "8bc7db11-8516-4cd3-b4eb-6d8a2e7f419f",
   "metadata": {},
   "outputs": [],
   "source": [
    "dau"
   ]
  },
  {
   "cell_type": "code",
   "execution_count": null,
   "id": "00691bf4-ed93-44b7-8096-9d3d68e5fab8",
   "metadata": {},
   "outputs": [],
   "source": [
    "sticky_factor"
   ]
  },
  {
   "cell_type": "code",
   "execution_count": null,
   "id": "3e551500-d396-4f8c-948d-1644d4485462",
   "metadata": {},
   "outputs": [],
   "source": []
  }
 ],
 "metadata": {
  "kernelspec": {
   "display_name": "Python 3 (ipykernel)",
   "language": "python",
   "name": "python3"
  },
  "language_info": {
   "codemirror_mode": {
    "name": "ipython",
    "version": 3
   },
   "file_extension": ".py",
   "mimetype": "text/x-python",
   "name": "python",
   "nbconvert_exporter": "python",
   "pygments_lexer": "ipython3",
   "version": "3.12.4"
  }
 },
 "nbformat": 4,
 "nbformat_minor": 5
}

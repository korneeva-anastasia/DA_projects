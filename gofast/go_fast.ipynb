{
 "cells": [
  {
   "cell_type": "markdown",
   "id": "9d0c25b1-5213-425e-8fad-2bf2f0b0f750",
   "metadata": {},
   "source": [
    "# Проект: Статистический анализ данных сервиса аренды самокатов GoFast"
   ]
  },
  {
   "cell_type": "markdown",
   "id": "d4e802df-1e5d-4e39-9462-bbc4f85d3e2b",
   "metadata": {},
   "source": [
    "Нам передали данные из популярного сервиса аренды самокатов GoFast о некоторых пользователях из нескольких городов, а также об их поездках. Необходимо проанализировать данные и проверить ряд гипотез, которые могут помочь бизнесу вырасти.  \r\n",
    "Чтобы совершать поездки по городу, пользователи сервиса GoFast пользуются мобильным приложением. Сервисом можно пользоваться:\r\n",
    "- без подписки:\r\n",
    "    - абонентская плата отсутствует;\r\n",
    "    - стоимость одной минуты поездки — 8 рублей;\r\n",
    "    - стоимость старта (начала поездки) — 50 рублей;\r\n",
    "- с подпиской Ultra:\r\n",
    "    - абонентская плата — 199 рублей в месяц;\r\n",
    "    - стоимость одной минуты поездки — 6 рублей;\r\n",
    "    - стоимость старта — б  есплатно."
   ]
  },
  {
   "cell_type": "markdown",
   "id": "c111cdc1-09b0-4ca3-8b11-b0cfef02d0f5",
   "metadata": {},
   "source": [
    "**Цель исследования**  \r\n",
    "Основными целями данного проекта являются:  \r\n",
    "- исследование следующих параметров:\r\n",
    "    - частота встречаемости городов;\r\n",
    "    - соотношение пользователей с подпиской и без подписки;\r\n",
    "    - возраст пользователей;\r\n",
    "    - расстояние, которое пользователь преодолел за одну поездку;\r\n",
    "    - продолжительность поездок.\r\n",
    "- подсчет выручки;\r\n",
    "- проверка следующих гипотез:\r\n",
    "    - пользователи с подпиской тратят больше времени на поездки;\r\n",
    "    - среднее расстояние, которое проезжают пользователи с подпиской, составляет менее 3130 м;\r\n",
    "    - помесячная выручка от пользователей с подпиской по месяцам выше, чем выручка от пользователей без подписки;\r\n",
    "    - количество обращений в техподдержку после обновления серверов снизилась."
   ]
  },
  {
   "cell_type": "markdown",
   "id": "285fd636-4ad3-4a75-a517-ca08196e8262",
   "metadata": {},
   "source": [
    "**Описание данных**  \r\n",
    "В качестве источника данных выступают датасеты со следующей информацией:\r\n",
    "- */datasets/users_go.csv*:\r\n",
    "    - user_id - уникальный идентификатор пользователя;\r\n",
    "    - name - имя пользователя;\r\n",
    "    - age - возраст;\r\n",
    "    - city - город;\r\n",
    "    - subscription_type - тип подписки (free, ultra).\r\n",
    "- */datasets/rides_go.csv*:\r\n",
    "    - user_id - уникальный идентификатор пользователя;\r\n",
    "    - distance - расстояние, которое пользователь проехал в текущей сессии (в метрах);\r\n",
    "    - duration - продолжительность сессии (в минутах) — время с того момента, как пользователь нажал кнопку «Начать поездку» до момента, как он нажал кнопку «Завершить поездку»;\r\n",
    "    - date - дата совершения поездки.\r\n",
    "- */datasets/subscriptions_go.csv*:\r\n",
    "    - subscription_type - тип подписки;\r\n",
    "    - minute_price - стоимость одной минуты поездки по данной подписке;\r\n",
    "    - start_ride_price - стоимость начала поездки;\r\n",
    "    - subscription_fee - стоимость ежемесячного платежа.есячного платежа."
   ]
  },
  {
   "cell_type": "markdown",
   "id": "d62df259-260f-4ed6-b060-efbf7af8286b",
   "metadata": {},
   "source": [
    "**План исследования**  \r\n",
    "1) Изучение основных характеристик датасетов  \r\n",
    "2) Предобработка данных  \r\n",
    "3) Исследовательская часть  \r\n",
    "4) Объединение данных  \r\n",
    "5) Подсчет выручки  \r\n",
    "6) Проверка гипотез  \r\n",
    "7) Выводы"
   ]
  },
  {
   "cell_type": "code",
   "execution_count": 1,
   "id": "bb94ee0d-a01a-4dbf-8d75-fb06446fa931",
   "metadata": {},
   "outputs": [],
   "source": [
    "import pandas as pd\n",
    "import matplotlib.pyplot as plt\n",
    "import numpy as np\n",
    "from scipy import stats as st"
   ]
  },
  {
   "cell_type": "markdown",
   "id": "3dcda9d9-ccb1-4379-9db7-f7054fc8b36d",
   "metadata": {},
   "source": [
    "## Загрузка и изучение общей информации о данных"
   ]
  },
  {
   "cell_type": "code",
   "execution_count": 2,
   "id": "07556888-e10f-45f6-b698-4ef8fefc0ae7",
   "metadata": {},
   "outputs": [],
   "source": [
    "#загрузка датасетов\n",
    "users = pd.read_csv('https://code.s3.yandex.net/datasets/users_go.csv')\n",
    "rides = pd.read_csv('https://code.s3.yandex.net/datasets//rides_go.csv')\n",
    "subscriptions = pd.read_csv('https://code.s3.yandex.net/datasets//subscriptions_go.csv')"
   ]
  },
  {
   "cell_type": "code",
   "execution_count": 3,
   "id": "1480dadf-d39b-482c-8a2a-c430b1905701",
   "metadata": {},
   "outputs": [
    {
     "name": "stdout",
     "output_type": "stream",
     "text": [
      "<class 'pandas.core.frame.DataFrame'>\n",
      "RangeIndex: 1565 entries, 0 to 1564\n",
      "Data columns (total 5 columns):\n",
      " #   Column             Non-Null Count  Dtype \n",
      "---  ------             --------------  ----- \n",
      " 0   user_id            1565 non-null   int64 \n",
      " 1   name               1565 non-null   object\n",
      " 2   age                1565 non-null   int64 \n",
      " 3   city               1565 non-null   object\n",
      " 4   subscription_type  1565 non-null   object\n",
      "dtypes: int64(2), object(3)\n",
      "memory usage: 61.3+ KB\n"
     ]
    },
    {
     "data": {
      "text/html": [
       "<div>\n",
       "<style scoped>\n",
       "    .dataframe tbody tr th:only-of-type {\n",
       "        vertical-align: middle;\n",
       "    }\n",
       "\n",
       "    .dataframe tbody tr th {\n",
       "        vertical-align: top;\n",
       "    }\n",
       "\n",
       "    .dataframe thead th {\n",
       "        text-align: right;\n",
       "    }\n",
       "</style>\n",
       "<table border=\"1\" class=\"dataframe\">\n",
       "  <thead>\n",
       "    <tr style=\"text-align: right;\">\n",
       "      <th></th>\n",
       "      <th>user_id</th>\n",
       "      <th>name</th>\n",
       "      <th>age</th>\n",
       "      <th>city</th>\n",
       "      <th>subscription_type</th>\n",
       "    </tr>\n",
       "  </thead>\n",
       "  <tbody>\n",
       "    <tr>\n",
       "      <th>0</th>\n",
       "      <td>1</td>\n",
       "      <td>Кира</td>\n",
       "      <td>22</td>\n",
       "      <td>Тюмень</td>\n",
       "      <td>ultra</td>\n",
       "    </tr>\n",
       "    <tr>\n",
       "      <th>1</th>\n",
       "      <td>2</td>\n",
       "      <td>Станислав</td>\n",
       "      <td>31</td>\n",
       "      <td>Омск</td>\n",
       "      <td>ultra</td>\n",
       "    </tr>\n",
       "    <tr>\n",
       "      <th>2</th>\n",
       "      <td>3</td>\n",
       "      <td>Алексей</td>\n",
       "      <td>20</td>\n",
       "      <td>Москва</td>\n",
       "      <td>ultra</td>\n",
       "    </tr>\n",
       "    <tr>\n",
       "      <th>3</th>\n",
       "      <td>4</td>\n",
       "      <td>Константин</td>\n",
       "      <td>26</td>\n",
       "      <td>Ростов-на-Дону</td>\n",
       "      <td>ultra</td>\n",
       "    </tr>\n",
       "    <tr>\n",
       "      <th>4</th>\n",
       "      <td>5</td>\n",
       "      <td>Адель</td>\n",
       "      <td>28</td>\n",
       "      <td>Омск</td>\n",
       "      <td>ultra</td>\n",
       "    </tr>\n",
       "  </tbody>\n",
       "</table>\n",
       "</div>"
      ],
      "text/plain": [
       "   user_id        name  age            city subscription_type\n",
       "0        1        Кира   22          Тюмень             ultra\n",
       "1        2   Станислав   31            Омск             ultra\n",
       "2        3     Алексей   20          Москва             ultra\n",
       "3        4  Константин   26  Ростов-на-Дону             ultra\n",
       "4        5       Адель   28            Омск             ultra"
      ]
     },
     "execution_count": 3,
     "metadata": {},
     "output_type": "execute_result"
    }
   ],
   "source": [
    "#Просмотр и информация о датасете users\n",
    "users.info()\n",
    "users.head()"
   ]
  },
  {
   "cell_type": "code",
   "execution_count": 4,
   "id": "99a311f4-caab-48f2-8d62-ef80b45e0a96",
   "metadata": {},
   "outputs": [
    {
     "name": "stdout",
     "output_type": "stream",
     "text": [
      "<class 'pandas.core.frame.DataFrame'>\n",
      "RangeIndex: 18068 entries, 0 to 18067\n",
      "Data columns (total 4 columns):\n",
      " #   Column    Non-Null Count  Dtype  \n",
      "---  ------    --------------  -----  \n",
      " 0   user_id   18068 non-null  int64  \n",
      " 1   distance  18068 non-null  float64\n",
      " 2   duration  18068 non-null  float64\n",
      " 3   date      18068 non-null  object \n",
      "dtypes: float64(2), int64(1), object(1)\n",
      "memory usage: 564.8+ KB\n"
     ]
    },
    {
     "data": {
      "text/html": [
       "<div>\n",
       "<style scoped>\n",
       "    .dataframe tbody tr th:only-of-type {\n",
       "        vertical-align: middle;\n",
       "    }\n",
       "\n",
       "    .dataframe tbody tr th {\n",
       "        vertical-align: top;\n",
       "    }\n",
       "\n",
       "    .dataframe thead th {\n",
       "        text-align: right;\n",
       "    }\n",
       "</style>\n",
       "<table border=\"1\" class=\"dataframe\">\n",
       "  <thead>\n",
       "    <tr style=\"text-align: right;\">\n",
       "      <th></th>\n",
       "      <th>user_id</th>\n",
       "      <th>distance</th>\n",
       "      <th>duration</th>\n",
       "      <th>date</th>\n",
       "    </tr>\n",
       "  </thead>\n",
       "  <tbody>\n",
       "    <tr>\n",
       "      <th>0</th>\n",
       "      <td>1</td>\n",
       "      <td>4409.919140</td>\n",
       "      <td>25.599769</td>\n",
       "      <td>2021-01-01</td>\n",
       "    </tr>\n",
       "    <tr>\n",
       "      <th>1</th>\n",
       "      <td>1</td>\n",
       "      <td>2617.592153</td>\n",
       "      <td>15.816871</td>\n",
       "      <td>2021-01-18</td>\n",
       "    </tr>\n",
       "    <tr>\n",
       "      <th>2</th>\n",
       "      <td>1</td>\n",
       "      <td>754.159807</td>\n",
       "      <td>6.232113</td>\n",
       "      <td>2021-04-20</td>\n",
       "    </tr>\n",
       "    <tr>\n",
       "      <th>3</th>\n",
       "      <td>1</td>\n",
       "      <td>2694.783254</td>\n",
       "      <td>18.511000</td>\n",
       "      <td>2021-08-11</td>\n",
       "    </tr>\n",
       "    <tr>\n",
       "      <th>4</th>\n",
       "      <td>1</td>\n",
       "      <td>4028.687306</td>\n",
       "      <td>26.265803</td>\n",
       "      <td>2021-08-28</td>\n",
       "    </tr>\n",
       "  </tbody>\n",
       "</table>\n",
       "</div>"
      ],
      "text/plain": [
       "   user_id     distance   duration        date\n",
       "0        1  4409.919140  25.599769  2021-01-01\n",
       "1        1  2617.592153  15.816871  2021-01-18\n",
       "2        1   754.159807   6.232113  2021-04-20\n",
       "3        1  2694.783254  18.511000  2021-08-11\n",
       "4        1  4028.687306  26.265803  2021-08-28"
      ]
     },
     "execution_count": 4,
     "metadata": {},
     "output_type": "execute_result"
    }
   ],
   "source": [
    "#Просмотр и информация о датасете rides\n",
    "rides.info()\n",
    "rides.head()"
   ]
  },
  {
   "cell_type": "code",
   "execution_count": 5,
   "id": "4513b80a-2581-427f-825d-78fcecb3a2a6",
   "metadata": {},
   "outputs": [
    {
     "name": "stdout",
     "output_type": "stream",
     "text": [
      "<class 'pandas.core.frame.DataFrame'>\n",
      "RangeIndex: 2 entries, 0 to 1\n",
      "Data columns (total 4 columns):\n",
      " #   Column             Non-Null Count  Dtype \n",
      "---  ------             --------------  ----- \n",
      " 0   subscription_type  2 non-null      object\n",
      " 1   minute_price       2 non-null      int64 \n",
      " 2   start_ride_price   2 non-null      int64 \n",
      " 3   subscription_fee   2 non-null      int64 \n",
      "dtypes: int64(3), object(1)\n",
      "memory usage: 196.0+ bytes\n"
     ]
    },
    {
     "data": {
      "text/html": [
       "<div>\n",
       "<style scoped>\n",
       "    .dataframe tbody tr th:only-of-type {\n",
       "        vertical-align: middle;\n",
       "    }\n",
       "\n",
       "    .dataframe tbody tr th {\n",
       "        vertical-align: top;\n",
       "    }\n",
       "\n",
       "    .dataframe thead th {\n",
       "        text-align: right;\n",
       "    }\n",
       "</style>\n",
       "<table border=\"1\" class=\"dataframe\">\n",
       "  <thead>\n",
       "    <tr style=\"text-align: right;\">\n",
       "      <th></th>\n",
       "      <th>subscription_type</th>\n",
       "      <th>minute_price</th>\n",
       "      <th>start_ride_price</th>\n",
       "      <th>subscription_fee</th>\n",
       "    </tr>\n",
       "  </thead>\n",
       "  <tbody>\n",
       "    <tr>\n",
       "      <th>0</th>\n",
       "      <td>free</td>\n",
       "      <td>8</td>\n",
       "      <td>50</td>\n",
       "      <td>0</td>\n",
       "    </tr>\n",
       "    <tr>\n",
       "      <th>1</th>\n",
       "      <td>ultra</td>\n",
       "      <td>6</td>\n",
       "      <td>0</td>\n",
       "      <td>199</td>\n",
       "    </tr>\n",
       "  </tbody>\n",
       "</table>\n",
       "</div>"
      ],
      "text/plain": [
       "  subscription_type  minute_price  start_ride_price  subscription_fee\n",
       "0              free             8                50                 0\n",
       "1             ultra             6                 0               199"
      ]
     },
     "execution_count": 5,
     "metadata": {},
     "output_type": "execute_result"
    }
   ],
   "source": [
    "#Просмотр и информация о датасете subscriptions\n",
    "subscriptions.info()\n",
    "subscriptions"
   ]
  },
  {
   "cell_type": "markdown",
   "id": "40e412f0-e8ca-4589-b81c-6dbc57096df1",
   "metadata": {},
   "source": [
    "**Вывод по разделу:** по результатам изучения структуры датасетов было выявлено, что пропуски в них отсутствуют. В датасетах представлены данные следующих типов: float64, int64, object. Необходимо заменить тип данных в столбце 'date' датасета rides на datetime."
   ]
  },
  {
   "cell_type": "markdown",
   "id": "4a8e997f-d98d-460d-8a08-6d279ebdb8c6",
   "metadata": {},
   "source": [
    "## Предобработка данных"
   ]
  },
  {
   "cell_type": "markdown",
   "id": "5dab490e-38ae-4505-b9ae-088f61636537",
   "metadata": {},
   "source": [
    "### Изменение типа данных  \n",
    "\n",
    "В данном разделе произведем замену данных в столбце 'date' датасета rides. Согласно информации о датасете, тип данных в данном столбце - object. Изменим тип на datetime."
   ]
  },
  {
   "cell_type": "code",
   "execution_count": 6,
   "id": "c6f402de-edf6-4f57-9d9f-ac1a8d8b3563",
   "metadata": {},
   "outputs": [],
   "source": [
    "rides['date'] = pd.to_datetime(rides['date'], format='%Y-%m-%d')"
   ]
  },
  {
   "cell_type": "markdown",
   "id": "4b0c0ff6-8391-42b3-bcc9-30549521e377",
   "metadata": {},
   "source": [
    "### Создание дополнительных столбцов  \n",
    "Необходимо создать дополнительный столбец 'month' с номером месяца на основе столбца 'date'."
   ]
  },
  {
   "cell_type": "code",
   "execution_count": 7,
   "id": "47bfccd7-9ea6-4d29-ab79-ae6b97ccb184",
   "metadata": {},
   "outputs": [],
   "source": [
    "rides['month'] = rides['date'].dt.month"
   ]
  },
  {
   "cell_type": "markdown",
   "id": "9334fcfd-c5cc-4403-b2d4-c08fac7a70f3",
   "metadata": {},
   "source": [
    "### Проверка дубликатов  \n",
    "Произведем поиск явных дубликатов в датасетах users и rides. В датасете subscriptions искать дубликаты смысла нет, так как он состоит всего лишь из двух строк с информацией о типах подписок."
   ]
  },
  {
   "cell_type": "code",
   "execution_count": 8,
   "id": "addddf63-11bc-42d2-b73c-a61a0d76ad6d",
   "metadata": {},
   "outputs": [
    {
     "data": {
      "text/plain": [
       "'Количество полных дубликатов в таблице users составляет 31'"
      ]
     },
     "metadata": {},
     "output_type": "display_data"
    },
    {
     "data": {
      "text/plain": [
       "'Количество строк в таблице users составляет 1565'"
      ]
     },
     "metadata": {},
     "output_type": "display_data"
    },
    {
     "data": {
      "text/plain": [
       "'Количество уникальных пользователей составляет 1534'"
      ]
     },
     "metadata": {},
     "output_type": "display_data"
    }
   ],
   "source": [
    "# подсчет явных дубликатов в таблице users\n",
    "display(f'Количество полных дубликатов в таблице users составляет {users.duplicated().sum()}')\n",
    "\n",
    "# подсчет количества строк в таблице users\n",
    "display(f'Количество строк в таблице users составляет {users.shape[0]}')\n",
    "\n",
    "# подсчет уникальных id пользователей\n",
    "display(f'Количество уникальных пользователей составляет {len(users['user_id'].unique())}')"
   ]
  },
  {
   "cell_type": "markdown",
   "id": "b66969ba-55f4-46bf-a3f8-1c05225130dd",
   "metadata": {},
   "source": [
    "Количество строк в таблице users составляет 1565, что на 31 больше, чем количество уникальных id пользователей. Таким образом, от явных дубликатов можно избавиться."
   ]
  },
  {
   "cell_type": "code",
   "execution_count": 9,
   "id": "d28f7e2d-285e-433c-8f4d-0aef57506a9f",
   "metadata": {},
   "outputs": [],
   "source": [
    "users = users.drop_duplicates()"
   ]
  },
  {
   "cell_type": "code",
   "execution_count": 10,
   "id": "d1dc490d-b2f5-4c8d-8679-f3b615d13e2b",
   "metadata": {},
   "outputs": [
    {
     "data": {
      "text/plain": [
       "'Количество полных публикатов в таблице rides составляет 0'"
      ]
     },
     "metadata": {},
     "output_type": "display_data"
    }
   ],
   "source": [
    "# поиск явных дубликатов в таблице rides\n",
    "display(f'Количество полных публикатов в таблице rides составляет {rides.duplicated().sum()}')"
   ]
  },
  {
   "cell_type": "markdown",
   "id": "b549aa31-1ed0-4eef-a204-b48da7b7a5c6",
   "metadata": {},
   "source": [
    "Явные дубликаты в таблице rides отсутствуют."
   ]
  },
  {
   "cell_type": "markdown",
   "id": "c5e5011a-d469-4c88-9125-41828e756443",
   "metadata": {},
   "source": [
    "**Вывод по разделу:** вВрамках данного раздела была проведена предобработка данных: поиск и удаление пропусков, замена типа данных по необходимости, поиск и удаление дубликатов. Данные готовы к исследованию.."
   ]
  },
  {
   "cell_type": "markdown",
   "id": "882754cf-befc-41f4-96bc-b9624ab08113",
   "metadata": {},
   "source": [
    "## Исследовательский анализ данных"
   ]
  },
  {
   "cell_type": "markdown",
   "id": "c29ef8fe-0216-43ca-a295-aedb44bbbd40",
   "metadata": {},
   "source": [
    "В рамках данного раздела необходимо провести исследование следующих параметров:\r\n",
    "- частота встречаемости городов;\r\n",
    "- соотношение пользователей с подпиской и без подписки;\r\n",
    "- возраст пользователей;\r\n",
    "- расстояние, которое пользователь преодолел за одну поездку;\r\n",
    "- продолжительность поездок."
   ]
  },
  {
   "cell_type": "code",
   "execution_count": 11,
   "id": "3ce9948b-fb26-48e0-be89-5b272c5b2d38",
   "metadata": {},
   "outputs": [
    {
     "data": {
      "text/html": [
       "<div>\n",
       "<style scoped>\n",
       "    .dataframe tbody tr th:only-of-type {\n",
       "        vertical-align: middle;\n",
       "    }\n",
       "\n",
       "    .dataframe tbody tr th {\n",
       "        vertical-align: top;\n",
       "    }\n",
       "\n",
       "    .dataframe thead th {\n",
       "        text-align: right;\n",
       "    }\n",
       "</style>\n",
       "<table border=\"1\" class=\"dataframe\">\n",
       "  <thead>\n",
       "    <tr style=\"text-align: right;\">\n",
       "      <th></th>\n",
       "      <th>city</th>\n",
       "      <th>user_id</th>\n",
       "    </tr>\n",
       "  </thead>\n",
       "  <tbody>\n",
       "    <tr>\n",
       "      <th>0</th>\n",
       "      <td>Пятигорск</td>\n",
       "      <td>219</td>\n",
       "    </tr>\n",
       "    <tr>\n",
       "      <th>1</th>\n",
       "      <td>Екатеринбург</td>\n",
       "      <td>204</td>\n",
       "    </tr>\n",
       "    <tr>\n",
       "      <th>2</th>\n",
       "      <td>Ростов-на-Дону</td>\n",
       "      <td>198</td>\n",
       "    </tr>\n",
       "    <tr>\n",
       "      <th>3</th>\n",
       "      <td>Краснодар</td>\n",
       "      <td>193</td>\n",
       "    </tr>\n",
       "    <tr>\n",
       "      <th>4</th>\n",
       "      <td>Сочи</td>\n",
       "      <td>189</td>\n",
       "    </tr>\n",
       "    <tr>\n",
       "      <th>5</th>\n",
       "      <td>Омск</td>\n",
       "      <td>183</td>\n",
       "    </tr>\n",
       "    <tr>\n",
       "      <th>6</th>\n",
       "      <td>Тюмень</td>\n",
       "      <td>180</td>\n",
       "    </tr>\n",
       "    <tr>\n",
       "      <th>7</th>\n",
       "      <td>Москва</td>\n",
       "      <td>168</td>\n",
       "    </tr>\n",
       "  </tbody>\n",
       "</table>\n",
       "</div>"
      ],
      "text/plain": [
       "             city  user_id\n",
       "0       Пятигорск      219\n",
       "1    Екатеринбург      204\n",
       "2  Ростов-на-Дону      198\n",
       "3       Краснодар      193\n",
       "4            Сочи      189\n",
       "5            Омск      183\n",
       "6          Тюмень      180\n",
       "7          Москва      168"
      ]
     },
     "metadata": {},
     "output_type": "display_data"
    },
    {
     "data": {
      "image/png": "[encoded data removed]",
      "text/plain": [
       "<Figure size 640x480 with 1 Axes>"
      ]
     },
     "metadata": {},
     "output_type": "display_data"
    }
   ],
   "source": [
    "#Сводная таблица по городам\n",
    "display(users.groupby('city')['user_id']\\\n",
    "             .agg('count')\\\n",
    "             .sort_values(ascending=False)\\\n",
    "             .reset_index())\n",
    "\n",
    "#График городов по количеству пользователей в городе\n",
    "users.groupby('city')['user_id']\\\n",
    "     .agg('count')\\\n",
    "     .sort_values()\\\n",
    "     .plot(kind='barh', title='Количество пользователей в городах');\n",
    "plt.xlabel(\"Количество пользователей\");\n",
    "plt.ylabel(\"Город\");"
   ]
  },
  {
   "cell_type": "markdown",
   "id": "f5c7a78e-d75e-41a6-9019-6425c11b5b8f",
   "metadata": {},
   "source": [
    "### Соотношение пользователей с подпиской Ultra и без подписки"
   ]
  },
  {
   "cell_type": "code",
   "execution_count": 12,
   "id": "d84b501b-6dba-445e-a80a-4076d22c8354",
   "metadata": {},
   "outputs": [
    {
     "data": {
      "text/html": [
       "<div>\n",
       "<style scoped>\n",
       "    .dataframe tbody tr th:only-of-type {\n",
       "        vertical-align: middle;\n",
       "    }\n",
       "\n",
       "    .dataframe tbody tr th {\n",
       "        vertical-align: top;\n",
       "    }\n",
       "\n",
       "    .dataframe thead th {\n",
       "        text-align: right;\n",
       "    }\n",
       "</style>\n",
       "<table border=\"1\" class=\"dataframe\">\n",
       "  <thead>\n",
       "    <tr style=\"text-align: right;\">\n",
       "      <th></th>\n",
       "      <th>subscription_type</th>\n",
       "      <th>user_id</th>\n",
       "    </tr>\n",
       "  </thead>\n",
       "  <tbody>\n",
       "    <tr>\n",
       "      <th>0</th>\n",
       "      <td>free</td>\n",
       "      <td>835</td>\n",
       "    </tr>\n",
       "    <tr>\n",
       "      <th>1</th>\n",
       "      <td>ultra</td>\n",
       "      <td>699</td>\n",
       "    </tr>\n",
       "  </tbody>\n",
       "</table>\n",
       "</div>"
      ],
      "text/plain": [
       "  subscription_type  user_id\n",
       "0              free      835\n",
       "1             ultra      699"
      ]
     },
     "metadata": {},
     "output_type": "display_data"
    },
    {
     "data": {
      "image/png": "[encoded data removed]",
      "text/plain": [
       "<Figure size 640x480 with 1 Axes>"
      ]
     },
     "metadata": {},
     "output_type": "display_data"
    }
   ],
   "source": [
    "# Сводная таблица по типам подписки\n",
    "display(users.groupby('subscription_type')['user_id']\\\n",
    "             .agg('count')\\\n",
    "             .reset_index())\n",
    "\n",
    "# график по пользователям с подпиской и без\n",
    "users.groupby('subscription_type')['user_id']\\\n",
    "     .agg('count')\\\n",
    "     .sort_values()\\\n",
    "     .plot(kind='pie', title='Пользователи с подпиской и без', autopct='%.1f%%');"
   ]
  },
  {
   "cell_type": "markdown",
   "id": "c29c5dc7-8bc1-4cda-b83d-bd066f3cc487",
   "metadata": {},
   "source": [
    "Из графика и таблицы выше видим, что большинство пользователей пользуются бесплатной подпиской (835 пользователей, или 54.1% от общего числа). Число пользователей с подпиской составляет 699 (или 45.9%)."
   ]
  },
  {
   "cell_type": "markdown",
   "id": "a76652f9-29d0-43e6-91b3-afa145ad582d",
   "metadata": {},
   "source": [
    "### Возраст пользователей  \n",
    "Для начала проверим, пользователи какого возраста представлены в Таблице."
   ]
  },
  {
   "cell_type": "code",
   "execution_count": 13,
   "id": "1564c262-5b6d-457c-998b-f18b1066748e",
   "metadata": {},
   "outputs": [
    {
     "data": {
      "text/plain": [
       "age\n",
       "12      4\n",
       "13      8\n",
       "14      9\n",
       "15     13\n",
       "16     19\n",
       "17     26\n",
       "18     46\n",
       "19     47\n",
       "20     71\n",
       "21     93\n",
       "22    119\n",
       "23    129\n",
       "24    132\n",
       "25    145\n",
       "26    131\n",
       "27    119\n",
       "28    112\n",
       "29     68\n",
       "30     68\n",
       "31     48\n",
       "32     41\n",
       "33     39\n",
       "34     19\n",
       "35     15\n",
       "36      6\n",
       "37      2\n",
       "38      3\n",
       "39      1\n",
       "43      1\n",
       "Name: user_id, dtype: int64"
      ]
     },
     "execution_count": 13,
     "metadata": {},
     "output_type": "execute_result"
    }
   ],
   "source": [
    "# Таблица по возрасту пользователей\n",
    "users.groupby('age')['user_id'].agg('count')"
   ]
  },
  {
   "cell_type": "markdown",
   "id": "c345a60c-9ce8-4157-98b3-717c34eb209d",
   "metadata": {},
   "source": [
    "Как видно, представленные пользователи имеют возраст от 12 до 43 лет. Сгруппируем пользователей по возрастным группам. Для этого напишем функцию age_bracket."
   ]
  },
  {
   "cell_type": "code",
   "execution_count": 14,
   "id": "ec9bd2cb-2473-4195-a8fd-df26e2cc64ce",
   "metadata": {},
   "outputs": [],
   "source": [
    "# функция age_bracket\n",
    "def age_bracket(age):\n",
    "    if age < 18:\n",
    "        return 'до 18'\n",
    "    elif 18 <= age < 26:\n",
    "        return '18-25 лет'\n",
    "    elif 26 <= age < 36:\n",
    "        return '26-35 лет'\n",
    "    else:\n",
    "        return 'более 35 лет'"
   ]
  },
  {
   "cell_type": "code",
   "execution_count": 15,
   "id": "6b87b552-3990-48e9-a0ff-74cadcd14e13",
   "metadata": {},
   "outputs": [
    {
     "data": {
      "image/png": "[encoded data removed]",
      "text/plain": [
       "<Figure size 640x480 with 1 Axes>"
      ]
     },
     "metadata": {},
     "output_type": "display_data"
    }
   ],
   "source": [
    "# добавление нового временного столбца с возрастными категориями\n",
    "users['age_bracket'] = users.apply(lambda users: age_bracket(users['age']), axis = 1)\n",
    "\n",
    "# График по возрастным группам\n",
    "users.groupby('age_bracket')['user_id'].agg('count').plot(kind='pie', title='Возраст пользователей');"
   ]
  },
  {
   "cell_type": "markdown",
   "id": "753e94a1-bb47-44dd-99d3-3d1730850312",
   "metadata": {},
   "source": [
    "Как видно из графика и таблицы выше, большинство пользователей приложения (51%) составляют люди с возрастом 18-25 лет. Чуть меньше (43%) пользователей представлено группой 26-35 лет. Несовершеннолетние и пользователи сраше 35 лет составляют меньшинство.\n",
    "Исследование по данному вопросу завершено. Удалим столбец 'age_bracket'."
   ]
  },
  {
   "cell_type": "code",
   "execution_count": 16,
   "id": "30f33739-ea08-4ff1-aff8-016a4562e7bb",
   "metadata": {},
   "outputs": [],
   "source": [
    "# Удаление столбца age_bracket\n",
    "del users['age_bracket']"
   ]
  },
  {
   "cell_type": "markdown",
   "id": "ac54a8c4-420e-4e8f-a08e-2c9588e18605",
   "metadata": {},
   "source": [
    "### Расстояние, которое пользователь преодолел за одну поездку  \n",
    "Построим гистограмму расстояний совершенных поездок и определим основные статистические данные."
   ]
  },
  {
   "cell_type": "code",
   "execution_count": 17,
   "id": "540fe429-bf1a-4eb1-8121-a57c04790d13",
   "metadata": {},
   "outputs": [
    {
     "data": {
      "text/plain": [
       "count    18068.000000\n",
       "mean      3070.659976\n",
       "std       1116.831209\n",
       "min          0.855683\n",
       "25%       2543.226360\n",
       "50%       3133.609994\n",
       "75%       3776.222735\n",
       "max       7211.007745\n",
       "Name: distance, dtype: float64"
      ]
     },
     "metadata": {},
     "output_type": "display_data"
    },
    {
     "data": {
      "image/png": "[encoded data removed]",
      "text/plain": [
       "<Figure size 640x480 with 1 Axes>"
      ]
     },
     "metadata": {},
     "output_type": "display_data"
    }
   ],
   "source": [
    "display(rides['distance'].describe())\n",
    "\n",
    "# Гистограмма преодоленных расстояний\n",
    "rides['distance'].plot(kind='hist', bins=20, title='Среднее расстояние');\n",
    "plt.xlabel(\"Расстояние, м\");\n",
    "plt.ylabel(\"Количество\");"
   ]
  },
  {
   "cell_type": "markdown",
   "id": "dde7297d-4b44-4d94-8f16-a3a0c93eef62",
   "metadata": {},
   "source": [
    "Как видно из графика и таблицы выше, большинство поездок составляют около 3000 м. Медианное значение составляет 3133.6 м, среднее - 3070.7 м. Таким образом, можно сделать вывод о том, что среднее расстояние, которое преодолевают пользователи за одну поездку, составляет чуть больше 3 км."
   ]
  },
  {
   "cell_type": "markdown",
   "id": "c3f35aaf-c770-4feb-b68e-702c0f231e1f",
   "metadata": {},
   "source": [
    "### Продолжительность поездок  \n",
    "Построим гистограмму продолжительности совершенных поездок и определим основные статистические данные."
   ]
  },
  {
   "cell_type": "code",
   "execution_count": 18,
   "id": "efab7d11-5ab6-4bd6-94ec-514e558bf899",
   "metadata": {},
   "outputs": [
    {
     "data": {
      "text/plain": [
       "count    18068.000000\n",
       "mean        17.805011\n",
       "std          6.091051\n",
       "min          0.500000\n",
       "25%         13.597563\n",
       "50%         17.678395\n",
       "75%         21.724800\n",
       "max         40.823963\n",
       "Name: duration, dtype: float64"
      ]
     },
     "metadata": {},
     "output_type": "display_data"
    },
    {
     "data": {
      "image/png": "[encoded data removed]",
      "text/plain": [
       "<Figure size 640x480 with 1 Axes>"
      ]
     },
     "metadata": {},
     "output_type": "display_data"
    }
   ],
   "source": [
    "display(rides['duration'].describe())\n",
    "\n",
    "# Гистограмма продолжительности поездок\n",
    "rides['duration'].plot(kind='hist', bins=20, title='Среднее время');\n",
    "plt.xlabel(\"Время поездки, мин.\");\n",
    "plt.ylabel(\"Количество\");"
   ]
  },
  {
   "cell_type": "markdown",
   "id": "7d0a27f9-0181-4de8-8213-2ee2497f6f8f",
   "metadata": {},
   "source": [
    "Как видно из графика и таблицы выше, большинство поездок пользователей продолжались около 17 минут. Среднее значение составляет 17.81 мин., медиана - 17.68 мин. Большинство поездок попадают в диапазон 13.6 - 21.72 минут.  \n",
    "\n",
    "**Выводы по разделу**  \r\n",
    "В рамках данного раздела был проведен исследовательский анализ данных.  \r\n",
    "Было выявлено, что большинство пользователей приложения находятся в Пятигорске, а меньшинство - в Москве.  \r\n",
    "Большинство пользователей пользуются бесплатной подпиской (54,4%), в то время как платную подписку приобрели 45.6%.  \r\n",
    "Большинство пользователей приложения  (51%) составляют люди с возрастом 18-25 лет. Чуть меньше (43%) пользователей представлено группой 26-35 лет. Несовершеннолетние и пользователи сраше 35 лет составляют меньшинство (в общей сложности 6%).  \r\n",
    "Среднее расстояние, преодолеваемое пользователями за одну поездку, составляет чтуь более 3 км.  \r\n",
    "Средняя продолжительность одной поездки составляет 13.6 - 21.72 минут."
   ]
  },
  {
   "cell_type": "markdown",
   "id": "48942ca9-a109-4cd2-870c-9db697921983",
   "metadata": {},
   "source": [
    "## Объединение данных  \n",
    "В рамках данного раздела мы создадим единый датафрейм data, который объединит данные о пользователях, совершенных ими поездках и типе подписки. Также создадим два отдельных датафрейма по типу подписки."
   ]
  },
  {
   "cell_type": "markdown",
   "id": "5c51a2c8-82b7-41af-a207-f10eac13f584",
   "metadata": {},
   "source": [
    "### Создание единого датафрейма"
   ]
  },
  {
   "cell_type": "code",
   "execution_count": 19,
   "id": "05d30fb6-b28b-4eb0-b565-ed0b35e84ee1",
   "metadata": {},
   "outputs": [
    {
     "name": "stdout",
     "output_type": "stream",
     "text": [
      "<class 'pandas.core.frame.DataFrame'>\n",
      "RangeIndex: 18068 entries, 0 to 18067\n",
      "Data columns (total 12 columns):\n",
      " #   Column             Non-Null Count  Dtype         \n",
      "---  ------             --------------  -----         \n",
      " 0   user_id            18068 non-null  int64         \n",
      " 1   name               18068 non-null  object        \n",
      " 2   age                18068 non-null  int64         \n",
      " 3   city               18068 non-null  object        \n",
      " 4   subscription_type  18068 non-null  object        \n",
      " 5   distance           18068 non-null  float64       \n",
      " 6   duration           18068 non-null  float64       \n",
      " 7   date               18068 non-null  datetime64[ns]\n",
      " 8   month              18068 non-null  int32         \n",
      " 9   minute_price       18068 non-null  int64         \n",
      " 10  start_ride_price   18068 non-null  int64         \n",
      " 11  subscription_fee   18068 non-null  int64         \n",
      "dtypes: datetime64[ns](1), float64(2), int32(1), int64(5), object(3)\n",
      "memory usage: 1.6+ MB\n"
     ]
    },
    {
     "data": {
      "text/html": [
       "<div>\n",
       "<style scoped>\n",
       "    .dataframe tbody tr th:only-of-type {\n",
       "        vertical-align: middle;\n",
       "    }\n",
       "\n",
       "    .dataframe tbody tr th {\n",
       "        vertical-align: top;\n",
       "    }\n",
       "\n",
       "    .dataframe thead th {\n",
       "        text-align: right;\n",
       "    }\n",
       "</style>\n",
       "<table border=\"1\" class=\"dataframe\">\n",
       "  <thead>\n",
       "    <tr style=\"text-align: right;\">\n",
       "      <th></th>\n",
       "      <th>user_id</th>\n",
       "      <th>name</th>\n",
       "      <th>age</th>\n",
       "      <th>city</th>\n",
       "      <th>subscription_type</th>\n",
       "      <th>distance</th>\n",
       "      <th>duration</th>\n",
       "      <th>date</th>\n",
       "      <th>month</th>\n",
       "      <th>minute_price</th>\n",
       "      <th>start_ride_price</th>\n",
       "      <th>subscription_fee</th>\n",
       "    </tr>\n",
       "  </thead>\n",
       "  <tbody>\n",
       "    <tr>\n",
       "      <th>0</th>\n",
       "      <td>1</td>\n",
       "      <td>Кира</td>\n",
       "      <td>22</td>\n",
       "      <td>Тюмень</td>\n",
       "      <td>ultra</td>\n",
       "      <td>4409.919140</td>\n",
       "      <td>25.599769</td>\n",
       "      <td>2021-01-01</td>\n",
       "      <td>1</td>\n",
       "      <td>6</td>\n",
       "      <td>0</td>\n",
       "      <td>199</td>\n",
       "    </tr>\n",
       "    <tr>\n",
       "      <th>1</th>\n",
       "      <td>1</td>\n",
       "      <td>Кира</td>\n",
       "      <td>22</td>\n",
       "      <td>Тюмень</td>\n",
       "      <td>ultra</td>\n",
       "      <td>2617.592153</td>\n",
       "      <td>15.816871</td>\n",
       "      <td>2021-01-18</td>\n",
       "      <td>1</td>\n",
       "      <td>6</td>\n",
       "      <td>0</td>\n",
       "      <td>199</td>\n",
       "    </tr>\n",
       "    <tr>\n",
       "      <th>2</th>\n",
       "      <td>1</td>\n",
       "      <td>Кира</td>\n",
       "      <td>22</td>\n",
       "      <td>Тюмень</td>\n",
       "      <td>ultra</td>\n",
       "      <td>754.159807</td>\n",
       "      <td>6.232113</td>\n",
       "      <td>2021-04-20</td>\n",
       "      <td>4</td>\n",
       "      <td>6</td>\n",
       "      <td>0</td>\n",
       "      <td>199</td>\n",
       "    </tr>\n",
       "    <tr>\n",
       "      <th>3</th>\n",
       "      <td>1</td>\n",
       "      <td>Кира</td>\n",
       "      <td>22</td>\n",
       "      <td>Тюмень</td>\n",
       "      <td>ultra</td>\n",
       "      <td>2694.783254</td>\n",
       "      <td>18.511000</td>\n",
       "      <td>2021-08-11</td>\n",
       "      <td>8</td>\n",
       "      <td>6</td>\n",
       "      <td>0</td>\n",
       "      <td>199</td>\n",
       "    </tr>\n",
       "    <tr>\n",
       "      <th>4</th>\n",
       "      <td>1</td>\n",
       "      <td>Кира</td>\n",
       "      <td>22</td>\n",
       "      <td>Тюмень</td>\n",
       "      <td>ultra</td>\n",
       "      <td>4028.687306</td>\n",
       "      <td>26.265803</td>\n",
       "      <td>2021-08-28</td>\n",
       "      <td>8</td>\n",
       "      <td>6</td>\n",
       "      <td>0</td>\n",
       "      <td>199</td>\n",
       "    </tr>\n",
       "  </tbody>\n",
       "</table>\n",
       "</div>"
      ],
      "text/plain": [
       "   user_id  name  age    city subscription_type     distance   duration  \\\n",
       "0        1  Кира   22  Тюмень             ultra  4409.919140  25.599769   \n",
       "1        1  Кира   22  Тюмень             ultra  2617.592153  15.816871   \n",
       "2        1  Кира   22  Тюмень             ultra   754.159807   6.232113   \n",
       "3        1  Кира   22  Тюмень             ultra  2694.783254  18.511000   \n",
       "4        1  Кира   22  Тюмень             ultra  4028.687306  26.265803   \n",
       "\n",
       "        date  month  minute_price  start_ride_price  subscription_fee  \n",
       "0 2021-01-01      1             6                 0               199  \n",
       "1 2021-01-18      1             6                 0               199  \n",
       "2 2021-04-20      4             6                 0               199  \n",
       "3 2021-08-11      8             6                 0               199  \n",
       "4 2021-08-28      8             6                 0               199  "
      ]
     },
     "execution_count": 19,
     "metadata": {},
     "output_type": "execute_result"
    }
   ],
   "source": [
    "data = users.merge(rides, on='user_id').merge(subscriptions, on='subscription_type')\n",
    "data.info()\n",
    "data.head()"
   ]
  },
  {
   "cell_type": "markdown",
   "id": "3e743610-2d10-4a8d-88a3-55992520ffcb",
   "metadata": {},
   "source": [
    "В новом датафрейме 18068 строк, как и в датасете rides, пропуски отсутствуют. Объединение прошло удачно."
   ]
  },
  {
   "cell_type": "markdown",
   "id": "910ac93f-66fb-46b3-974a-1f28a3057587",
   "metadata": {},
   "source": [
    "### Создание датафрейма с данными о пользователеях без подписки"
   ]
  },
  {
   "cell_type": "code",
   "execution_count": 20,
   "id": "88148a67-1d23-4c76-98e8-f5c7368d3f34",
   "metadata": {},
   "outputs": [],
   "source": [
    "data_free = data.query('subscription_type == \"free\"')"
   ]
  },
  {
   "cell_type": "markdown",
   "id": "22887846-b41f-4620-be2b-905c3ff4a171",
   "metadata": {},
   "source": [
    "### Создание датафрейма с данными о пользователях с подпиской Ultra"
   ]
  },
  {
   "cell_type": "code",
   "execution_count": 21,
   "id": "6bded098-4cee-459c-88dd-99affb91f734",
   "metadata": {},
   "outputs": [],
   "source": [
    "data_ultra = data.query('subscription_type == \"ultra\"')"
   ]
  },
  {
   "cell_type": "markdown",
   "id": "9aab1b3d-8603-471e-92d3-0ee0a6d38922",
   "metadata": {},
   "source": [
    "### Информация о расстоянии и времени поездок в зависимости от типа подписки  \n",
    "В рамках данного раздела сравним расстояние и время поездок в зависимости от наличия или отсутствия подписки. Для этого построим гистограммы распределения расстояния и времени по типам подписки."
   ]
  },
  {
   "cell_type": "code",
   "execution_count": 22,
   "id": "7c695ea5-af20-42f8-8bce-b744ef276cc7",
   "metadata": {},
   "outputs": [
    {
     "data": {
      "text/plain": [
       "count    11568.000000\n",
       "mean      3045.495282\n",
       "std       1246.173806\n",
       "min          0.855683\n",
       "25%       2366.562689\n",
       "50%       3114.648465\n",
       "75%       3905.697894\n",
       "max       7211.007745\n",
       "Name: distance, dtype: float64"
      ]
     },
     "execution_count": 22,
     "metadata": {},
     "output_type": "execute_result"
    },
    {
     "data": {
      "image/png": "[encoded data removed]",
      "text/plain": [
       "<Figure size 640x480 with 1 Axes>"
      ]
     },
     "metadata": {},
     "output_type": "display_data"
    }
   ],
   "source": [
    "# Гистограмма расстояния для пользователей без подписки\n",
    "data_free['distance'].plot(kind='hist', bins=20, title='Расстояние поездки без подписки');\n",
    "plt.xlabel(\"Расстояние, м\");\n",
    "plt.ylabel(\"Количество\");\n",
    "\n",
    "data_free['distance'].describe()"
   ]
  },
  {
   "cell_type": "code",
   "execution_count": 23,
   "id": "92ed57c1-48d1-4b91-bf75-6a37673197e6",
   "metadata": {},
   "outputs": [
    {
     "data": {
      "text/plain": [
       "count    6500.000000\n",
       "mean     3115.445388\n",
       "std       836.895330\n",
       "min       244.210438\n",
       "25%      2785.444017\n",
       "50%      3148.637229\n",
       "75%      3560.574425\n",
       "max      5699.769662\n",
       "Name: distance, dtype: float64"
      ]
     },
     "execution_count": 23,
     "metadata": {},
     "output_type": "execute_result"
    },
    {
     "data": {
      "image/png": "[encoded data removed]",
      "text/plain": [
       "<Figure size 640x480 with 1 Axes>"
      ]
     },
     "metadata": {},
     "output_type": "display_data"
    }
   ],
   "source": [
    "# Гистограмма расстояния для пользователей с подпиской\n",
    "data_ultra['distance'].plot(kind='hist', bins=20, title='Расстояние поездки c Ultra');\n",
    "plt.xlabel(\"Расстояние, м\");\n",
    "plt.ylabel(\"Количество\"); \n",
    "\n",
    "data_ultra['distance'].describe()"
   ]
  },
  {
   "cell_type": "markdown",
   "id": "34e34abb-59fe-402d-bdc0-13853eb741bc",
   "metadata": {},
   "source": [
    "По данным графикам и таблицам видно, что среднее и медианное расстояния у пользователей с разным типом подписки различаются несущественно. И те, и другие, проезжают в среднем чуть более 3 км за поездку. "
   ]
  },
  {
   "cell_type": "code",
   "execution_count": 24,
   "id": "b5ca653e-0d0b-4fdd-9771-df4e32160f45",
   "metadata": {},
   "outputs": [
    {
     "data": {
      "text/plain": [
       "count    11568.000000\n",
       "mean        17.390909\n",
       "std          6.326803\n",
       "min          0.500000\n",
       "25%         12.958437\n",
       "50%         17.326890\n",
       "75%         21.594071\n",
       "max         34.948498\n",
       "Name: duration, dtype: float64"
      ]
     },
     "execution_count": 24,
     "metadata": {},
     "output_type": "execute_result"
    },
    {
     "data": {
      "image/png": "[encoded data removed]",
      "text/plain": [
       "<Figure size 640x480 with 1 Axes>"
      ]
     },
     "metadata": {},
     "output_type": "display_data"
    }
   ],
   "source": [
    "# Гистограмма времени для пользователей без подписки\n",
    "data_free['duration'].plot(kind='hist', bins=20, title='Время поездки без подписки');\n",
    "plt.xlabel(\"Время, мин.\");\n",
    "plt.ylabel(\"Количество\");  \n",
    "\n",
    "data_free['duration'].describe()"
   ]
  },
  {
   "cell_type": "code",
   "execution_count": 25,
   "id": "e741898f-14ec-44b5-a715-3ff00f7efa0c",
   "metadata": {},
   "outputs": [
    {
     "data": {
      "text/plain": [
       "count    6500.000000\n",
       "mean       18.541985\n",
       "std         5.572048\n",
       "min         3.760353\n",
       "25%        14.524654\n",
       "50%        18.178153\n",
       "75%        21.884129\n",
       "max        40.823963\n",
       "Name: duration, dtype: float64"
      ]
     },
     "execution_count": 25,
     "metadata": {},
     "output_type": "execute_result"
    },
    {
     "data": {
      "image/png": "[encoded data removed]",
      "text/plain": [
       "<Figure size 640x480 with 1 Axes>"
      ]
     },
     "metadata": {},
     "output_type": "display_data"
    }
   ],
   "source": [
    "# Гистограмма расстояния для пользователей с подпиской\n",
    "data_ultra['duration'].plot(kind='hist', bins=20, title='Время поездки c Ultra');\n",
    "plt.xlabel(\"Время, мин.\");\n",
    "plt.ylabel(\"Количество\");\n",
    "\n",
    "data_ultra['duration'].describe()"
   ]
  },
  {
   "cell_type": "markdown",
   "id": "7eca0a61-f5f1-4c84-98d3-b18ada16bfbb",
   "metadata": {},
   "source": [
    "По данным графикам и таблицам видно, что среднее время поездки у пользователей с подпиской и без различается несущественно. Так, пользователи без подписки тратят на одну поездку в среднем 17 минут, а пользователи с подпиской - 18. "
   ]
  },
  {
   "cell_type": "markdown",
   "id": "251de807-63e1-4775-9cc3-886321507986",
   "metadata": {},
   "source": [
    "## Подсчёт выручки  \n",
    "В рамках данного раздела создадим новый датафрейм с агрегированными данными о поездках каждого пользователя за каждый месяц и определим ежемесячную выручку, принесенную каждым пользователем.  \n",
    "Предварительно округлим продолжительность времени каждой поездки до целого числа."
   ]
  },
  {
   "cell_type": "code",
   "execution_count": 26,
   "id": "328142a3-4218-46dc-81c6-722abd5d5815",
   "metadata": {},
   "outputs": [],
   "source": [
    "data['duration'] = np.ceil(data['duration'])\n",
    "\n",
    "# создание нового датафрейма\n",
    "month_data = data.pivot_table(index=('user_id', 'month'), \n",
    "                              values=('distance', 'duration', 'minute_price', 'start_ride_price', 'subscription_fee'), \n",
    "                              aggfunc=('count', 'sum')\n",
    "                             )\n",
    "# переименуем столбцы\n",
    "month_data.columns = ['count', \n",
    "                      'distance', \n",
    "                      'count_2', \n",
    "                      'duration', \n",
    "                      'count_3', \n",
    "                      'minute_price', \n",
    "                      'count_4', \n",
    "                      'start_ride_price', \n",
    "                      'count_5', \n",
    "                      'subscription_fee']\n",
    "\n",
    "# удалим лишние столбцы-\"дубликаты\"\n",
    "month_data = month_data.drop(['count_2', 'count_3', 'count_4', 'count_5'], axis=1)\n",
    "\n",
    "# стоимость минуты, старта и ежемесячной подписки увеличена пропорционально количеству поездок. Приведем эти данные в првоначальное состояние\n",
    "month_data['minute_price'] = month_data['minute_price']/month_data['count']\n",
    "month_data['start_ride_price'] = month_data['start_ride_price']/month_data['count']\n",
    "month_data['subscription_fee'] = month_data['subscription_fee']/month_data['count']\n",
    "month_data = month_data.reset_index()"
   ]
  },
  {
   "cell_type": "markdown",
   "id": "d7340c44-e053-48fd-9819-7d30113f3b82",
   "metadata": {},
   "source": [
    "Добавим в новый датафрем дополнительный столбец с помесячной выручкой, которую принес каждый пользователь."
   ]
  },
  {
   "cell_type": "code",
   "execution_count": 27,
   "id": "3b2b0bf0-1cc1-4a96-ab85-2eb24f136859",
   "metadata": {},
   "outputs": [
    {
     "data": {
      "text/html": [
       "<div>\n",
       "<style scoped>\n",
       "    .dataframe tbody tr th:only-of-type {\n",
       "        vertical-align: middle;\n",
       "    }\n",
       "\n",
       "    .dataframe tbody tr th {\n",
       "        vertical-align: top;\n",
       "    }\n",
       "\n",
       "    .dataframe thead th {\n",
       "        text-align: right;\n",
       "    }\n",
       "</style>\n",
       "<table border=\"1\" class=\"dataframe\">\n",
       "  <thead>\n",
       "    <tr style=\"text-align: right;\">\n",
       "      <th></th>\n",
       "      <th>user_id</th>\n",
       "      <th>month</th>\n",
       "      <th>count</th>\n",
       "      <th>distance</th>\n",
       "      <th>duration</th>\n",
       "      <th>minute_price</th>\n",
       "      <th>start_ride_price</th>\n",
       "      <th>subscription_fee</th>\n",
       "      <th>proceeds</th>\n",
       "    </tr>\n",
       "  </thead>\n",
       "  <tbody>\n",
       "    <tr>\n",
       "      <th>0</th>\n",
       "      <td>1</td>\n",
       "      <td>1</td>\n",
       "      <td>2</td>\n",
       "      <td>7027.511294</td>\n",
       "      <td>42.0</td>\n",
       "      <td>6.0</td>\n",
       "      <td>0.0</td>\n",
       "      <td>199.0</td>\n",
       "      <td>451.0</td>\n",
       "    </tr>\n",
       "    <tr>\n",
       "      <th>1</th>\n",
       "      <td>1</td>\n",
       "      <td>4</td>\n",
       "      <td>1</td>\n",
       "      <td>754.159807</td>\n",
       "      <td>7.0</td>\n",
       "      <td>6.0</td>\n",
       "      <td>0.0</td>\n",
       "      <td>199.0</td>\n",
       "      <td>241.0</td>\n",
       "    </tr>\n",
       "    <tr>\n",
       "      <th>2</th>\n",
       "      <td>1</td>\n",
       "      <td>8</td>\n",
       "      <td>2</td>\n",
       "      <td>6723.470560</td>\n",
       "      <td>46.0</td>\n",
       "      <td>6.0</td>\n",
       "      <td>0.0</td>\n",
       "      <td>199.0</td>\n",
       "      <td>475.0</td>\n",
       "    </tr>\n",
       "    <tr>\n",
       "      <th>3</th>\n",
       "      <td>1</td>\n",
       "      <td>10</td>\n",
       "      <td>2</td>\n",
       "      <td>5809.911100</td>\n",
       "      <td>32.0</td>\n",
       "      <td>6.0</td>\n",
       "      <td>0.0</td>\n",
       "      <td>199.0</td>\n",
       "      <td>391.0</td>\n",
       "    </tr>\n",
       "    <tr>\n",
       "      <th>4</th>\n",
       "      <td>1</td>\n",
       "      <td>11</td>\n",
       "      <td>3</td>\n",
       "      <td>7003.499363</td>\n",
       "      <td>56.0</td>\n",
       "      <td>6.0</td>\n",
       "      <td>0.0</td>\n",
       "      <td>199.0</td>\n",
       "      <td>535.0</td>\n",
       "    </tr>\n",
       "  </tbody>\n",
       "</table>\n",
       "</div>"
      ],
      "text/plain": [
       "   user_id  month  count     distance  duration  minute_price  \\\n",
       "0        1      1      2  7027.511294      42.0           6.0   \n",
       "1        1      4      1   754.159807       7.0           6.0   \n",
       "2        1      8      2  6723.470560      46.0           6.0   \n",
       "3        1     10      2  5809.911100      32.0           6.0   \n",
       "4        1     11      3  7003.499363      56.0           6.0   \n",
       "\n",
       "   start_ride_price  subscription_fee  proceeds  \n",
       "0               0.0             199.0     451.0  \n",
       "1               0.0             199.0     241.0  \n",
       "2               0.0             199.0     475.0  \n",
       "3               0.0             199.0     391.0  \n",
       "4               0.0             199.0     535.0  "
      ]
     },
     "execution_count": 27,
     "metadata": {},
     "output_type": "execute_result"
    }
   ],
   "source": [
    "# добавление столбца 'proceeds'\n",
    "month_data['proceeds'] = month_data['count'] * month_data['start_ride_price'] \\\n",
    "                         + month_data['duration'] * month_data['minute_price'] \\\n",
    "                         + month_data['subscription_fee']\n",
    "month_data.head()"
   ]
  },
  {
   "cell_type": "markdown",
   "id": "f3e6c565-9382-442c-9454-b9dbf6f814ae",
   "metadata": {},
   "source": [
    "**Выводы по разделу:** вВ рамках данного раздела был проведен расчет ежемесячной выручки с каждого пользователя."
   ]
  },
  {
   "cell_type": "markdown",
   "id": "f91b077f-b371-4fdc-8de7-746c646bacc7",
   "metadata": {},
   "source": [
    "## Проверка гипотез  \n",
    "В рамках данного раздела необходимо проверить следующие гипотезы:\r\n",
    "- пользователи с подпиской тратят больше времени на поездки;\r\n",
    "- среднее расстояние, которое проезжают пользователи с подпиской, составляет менее 3130 м;\r\n",
    "- помесячная выручка от пользователей с подпиской по месяцам выше, чем выручка от пользователей без подписки;\r\n",
    "- количество обращений в техподдержку после обновления серверов снизилась."
   ]
  },
  {
   "cell_type": "markdown",
   "id": "451ddfbf-bdd3-4945-896d-c0655b94b48e",
   "metadata": {},
   "source": [
    "### Проверка гипотезы 1  \n",
    "H0 - пользователи с подпиской тратят на поездки столько же времени, сколько и пользователи без подписки.  \r\n",
    "H1 - пользователи с подпиской тратят больше времени на поездки, чем пользователи без подписки."
   ]
  },
  {
   "cell_type": "code",
   "execution_count": 28,
   "id": "2168b371-8e07-4c37-bce9-e172c7ccb873",
   "metadata": {},
   "outputs": [
    {
     "name": "stdout",
     "output_type": "stream",
     "text": [
      "p-value: 5.675781377128977e-37\n",
      "Отвергаем нулевую гипотезу\n"
     ]
    }
   ],
   "source": [
    "# определим уровень значимости в размере 0.01\n",
    "alpha = 0.01\n",
    "results = st.ttest_ind(data_ultra['duration'], data_free['duration'], equal_var=False, alternative='greater')\n",
    "print(f'p-value: {results.pvalue}')\n",
    "\n",
    "if results.pvalue < alpha:\n",
    "    print('Отвергаем нулевую гипотезу')\n",
    "else:\n",
    "    print('Нет оснований отвергнуть нулевую гипотезу')"
   ]
  },
  {
   "cell_type": "markdown",
   "id": "3dd7d9c9-decd-48c4-abb3-37a5c3f2c215",
   "metadata": {},
   "source": [
    "**Вывод:** Значение p-value меньше уровня значимости. По результатам проверки гипотезы есть основания предполагать, что пользователи с подпиской в среднем тратят больше времени на поездки в отличие от пользователей без подписки."
   ]
  },
  {
   "cell_type": "markdown",
   "id": "bc6c4e36-ea75-4576-8471-5aded5e8e6bc",
   "metadata": {},
   "source": [
    "### Проверка гипотезы 2  \n",
    "H0 - пользователи с подпиской проезжают в среднем 3130 м за одну поездку.  \r\n",
    "H1 - пользователи с подпиской проезжают в среднем больше 3130 м за одну поездку."
   ]
  },
  {
   "cell_type": "code",
   "execution_count": 29,
   "id": "aa1448a4-d623-4b6e-a4bc-02d6bc1c1400",
   "metadata": {},
   "outputs": [
    {
     "name": "stdout",
     "output_type": "stream",
     "text": [
      "p-value: 0.9195368847849785\n",
      "Нет оснований отвергнуть нулевую гипотезу\n"
     ]
    }
   ],
   "source": [
    "# оптимальное значение с точки зрения износа\n",
    "interested_value = 3130\n",
    "# определим уровень значимости в размере 0.01\n",
    "alpha = 0.01\n",
    "results = st.ttest_1samp(data_ultra['distance'], interested_value, alternative='greater')\n",
    "print(f'p-value: {results.pvalue}')\n",
    "\n",
    "if results.pvalue < alpha:\n",
    "    print('Отвергаем нулевую гипотезу')\n",
    "else:\n",
    "    print('Нет оснований отвергнуть нулевую гипотезу')"
   ]
  },
  {
   "cell_type": "markdown",
   "id": "4ce99d0e-3a20-485f-9344-d9114a493a67",
   "metadata": {},
   "source": [
    "**Вывод:** Значение p-value больше уровня значимости. По результатам проверки гипотезы есть основания предполагать, что пользователи с подпиской в среднем проезжают 3130 м или менее за одну поездку."
   ]
  },
  {
   "cell_type": "markdown",
   "id": "7c95f4ad-f3b5-4c2b-aea8-d060a043d186",
   "metadata": {},
   "source": [
    "### Проверка гипотезы 3  \n",
    "H0 - помесячная выручка от пользователей с подпиской равна помесячной выручке от пользователей без подписки.  \r\n",
    "H1 - помесячная выручка от пользователей с подпиской больше, чем выручка от пользователей без подписки."
   ]
  },
  {
   "cell_type": "code",
   "execution_count": 31,
   "id": "2ee57568-ed05-4fb0-84b6-47993dbf8d62",
   "metadata": {},
   "outputs": [
    {
     "name": "stdout",
     "output_type": "stream",
     "text": [
      "p-value: 8.874140893976874e-40\n",
      "Отвергаем нулевую гипотезу\n"
     ]
    }
   ],
   "source": [
    "# определим уровень значимости в размере 0.01\n",
    "alpha = 0.01\n",
    "results = st.ttest_ind(month_data.loc[month_data['subscription_fee']>0, 'proceeds'], \n",
    "                       month_data.loc[month_data['subscription_fee']==0, 'proceeds'], \n",
    "                       equal_var=False, \n",
    "                       alternative = 'greater')\n",
    "\n",
    "print(f'p-value: {results.pvalue}')\n",
    "\n",
    "if results.pvalue < alpha:\n",
    "    print('Отвергаем нулевую гипотезу')\n",
    "else:\n",
    "    print('Нет оснований отвергнуть нулевую гипотезу')"
   ]
  },
  {
   "cell_type": "markdown",
   "id": "1a58234c-83dc-4a2f-b72e-58d773a79e3d",
   "metadata": {},
   "source": [
    "**Вывод:** по результатам проверки гипотезы есть основания предполагать, что помесячная выручка от пользователей с подпиской выше, чем выручка от пользователей без подписки."
   ]
  },
  {
   "cell_type": "markdown",
   "id": "a64bdbbf-9a70-4352-810f-b9951f44f34a",
   "metadata": {},
   "source": [
    "## Выводы  \n",
    "В рамках данного проекта было проведено исследование данных о пользователях сервиса аренды самокатов GoFast, а именно: \r\n",
    "1. исследованы следующие параметры:  \r\n",
    "    - частота встречаемости городов: большинство пользователей приложения находятся в Пятигорске. Минимальное количество пользователей в Москве;  \r\n",
    "    - соотношение пользователей с подпиской и без подписки:  большинство пользователей пользуются бесплатной подпиской (835 пользователей, или 54.1% от общего числа). Число пользователей с подпиской составляет 699 (или 45.9%);  \r\n",
    "    - возраст пользователей:  большинство пользователей приложения (51%) составляют люди с возрастом 18-25 лет. Чуть меньше (43%) пользователей представлено группой 26-35 лет;  \r\n",
    "    - расстояние, которое пользователь преодолел за одну поездку: среднее расстояние, которое преодолевают пользователи за одну поездку, составляет чуть больше 3 км;  \r\n",
    "    - продолжительность поездок: большинство поездок попадают в диапазон 13.6 - 21.72 минут.  \r\n",
    "2. произведен подсчет ежемесячной выручки по пользователям.  \r\n",
    "3. проверены следующие гипотезы:  \r\n",
    "    - пользователи с подпиской тратят больше времени на поездки:есть основания предполагать, что пользователи с подпиской в среднем тратят больше времени на поездки в отличие от пользователей без подписки.  \r\n",
    "    - среднее расстояние, которое проезжают пользователи с подпиской, составляет менее 3130 м: есть основания предполагать, что пользователи с подпиской в среднем проезжают 3130 м или менее за одну поездку.  \r\n",
    "    - помесячная выручка от пользователей с подпиской по месяцам выше, чем выручка от пользователей без подписки: есть основания предполагать, что помесячная выручка от пользователей с подпиской выше, чем выручка от пользователей без est_rel().  "
   ]
  },
  {
   "cell_type": "code",
   "execution_count": null,
   "id": "1c9abecd-a00c-4437-b693-9a92e4657929",
   "metadata": {},
   "outputs": [],
   "source": []
  }
 ],
 "metadata": {
  "kernelspec": {
   "display_name": "Python 3 (ipykernel)",
   "language": "python",
   "name": "python3"
  },
  "language_info": {
   "codemirror_mode": {
    "name": "ipython",
    "version": 3
   },
   "file_extension": ".py",
   "mimetype": "text/x-python",
   "name": "python",
   "nbconvert_exporter": "python",
   "pygments_lexer": "ipython3",
   "version": "3.12.1"
  }
 },
 "nbformat": 4,
 "nbformat_minor": 5
}

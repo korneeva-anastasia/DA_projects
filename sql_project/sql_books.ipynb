{
 "cells": [
  {
   "cell_type": "markdown",
   "metadata": {},
   "source": [
    "  <div class=\"alert alert-info\">\n",
    "  Привет, Анастасия! Меня зовут Светлана и я буду проверять твой проект. Моя основная цель — не указать на совершенные тобою ошибки, а поделиться своим опытом и помочь тебе. Предлагаю общаться на «ты». Но если это не удобно - дай знать, и мы перейдем на «вы».\n",
    "\n",
    "  <div class=\"alert alert-success\">\n",
    "  <b>👍 Успех:</b> Зелёным цветом отмечены удачные и элегантные решения, на которые можно опираться в будущих проектах.\n",
    "  </div>\n",
    "  <div class=\"alert alert-warning\">\n",
    "  <b>🤔 Рекомендация:</b> Жёлтым цветом выделено то, что в следующий раз можно сделать по-другому. Ты можешь учесть эти комментарии при выполнении будущих заданий или доработать проект сейчас (однако это не обязательно).\n",
    "  </div>\n",
    "  <div class=\"alert alert-danger\">\n",
    "  <b>😔 Необходимо исправить:</b> Красным цветом выделены комментарии, без исправления которых, я не смогу принять проект :(\n",
    "  </div>\n",
    "  <div class=\"alert alert-info\">\n",
    "  <b>👂 Совет:</b> Какие-то дополнительные материалы\n",
    "  </div>\n",
    "  Давай работать над проектом в диалоге: если ты что-то меняешь в проекте по моим рекомендациям — пиши об этом.\n",
    "  Мне будет легче отследить изменения, если ты выделишь свои комментарии:\n",
    "  <div class=\"alert alert-info\"> <b>🎓 Комментарий студента:</b> Например, вот так.</div>\n",
    "  Пожалуйста, не перемещай, не изменяй и не удаляй мои комментарии. Всё это поможет выполнить повторную проверку твоего проекта быстрее.\n",
    "   </div>"
   ]
  },
  {
   "cell_type": "markdown",
   "metadata": {},
   "source": [
    "# Проект SQL: сервис для чтения книг"
   ]
  },
  {
   "cell_type": "markdown",
   "metadata": {},
   "source": [
    "**Описание проекта**  \n",
    "Коронавирус застал мир врасплох, изменив привычный порядок вещей. На какое-то время жители городов перестали выходить на улицу, посещать кафе и торговые центры. Зато стало больше времени для книг. Это заметили стартаперы — и бросились создавать приложения для тех, кто любит читать.  \n",
    "Ваша компания решила быть на волне и купила крупный сервис для чтения книг по подписке.  \n",
    "\n",
    "**Цель проекта**  \n",
    "Анализ базы данных с информацией о книгах, издательствах, авторах, а также о пользовательских обзорах книг. Эти данные помогут сформулировать ценностное предложение для нового продукта.   \n",
    "\n",
    "**Описание данных**  \n",
    "В качестве источника данных используется база данных со следующими таблицами:  \n",
    "Таблица `books` cодержит данные о книгах:  \n",
    "- *book_id* — идентификатор книги;  \n",
    "- *author_id* — идентификатор автора;  \n",
    "- *title* — название книги;  \n",
    "- *num_pages* — количество страниц;  \n",
    "- *publication_date* — дата публикации книги;  \n",
    "- *publisher_id* — идентификатор издателя.  \n",
    "\n",
    "Таблица `authors` cодержит данные об авторах:  \n",
    "- *author_id* — идентификатор автора;  \n",
    "- *author* — имя автора.  \n",
    "\n",
    "Таблица `publishers` cодержит данные об издательствах:  \n",
    "- *publisher_id* — идентификатор издательства;  \n",
    "- *publisher* — название издательства;  \n",
    "\n",
    "Таблица `ratings` cодержит данные о пользовательских оценках книг:  \n",
    "- *rating_id* — идентификатор оценки;  \n",
    "- *book_id* — идентификатор книги;  \n",
    "- *username* — имя пользователя, оставившего оценку;  \n",
    "- *rating* — оценка книги.  \n",
    "\n",
    "Таблица `reviews` cодержит данные о пользовательских обзорах:  \n",
    "- *review_id* — идентификатор обзора;  \n",
    "- *book_id* — идентификатор книги;  \n",
    "- *username* — имя автора обзора;  \n",
    "- *text* — текст обзора.  \n",
    "\n",
    "**План исследования**  \n",
    "1. Загрузка и просмотр данных  \n",
    "2. Исследовательский анализ:  \n",
    "    - расчет числа книг, выпущенных после 1 января 2000 года;  \n",
    "    - количество обзоров и средняя оценка книг;  \n",
    "    - определение издательства, которое выпустило наибольшее число книг толще 50 страниц;  \n",
    "    - выявление автора с самой высокой средней оценкой книг;  \n",
    "    - расчет среднего количества обзоров от пользователей, которые поставили больше 48 оценок.  \n",
    "3. Выводы по исследованию."
   ]
  },
  {
   "cell_type": "markdown",
   "metadata": {},
   "source": [
    "## Загрузка и просмотр данных  \n",
    "В рамках данного раздела загрузим таблицы и просмотрим первые пять строк."
   ]
  },
  {
   "cell_type": "code",
   "execution_count": 1,
   "metadata": {},
   "outputs": [],
   "source": [
    "# импортируем библиотеки\n",
    "import pandas as pd\n",
    "from sqlalchemy import text, create_engine\n",
    "\n",
    "# устанавливаем параметры\n",
    "db_config = {'user': 'praktikum_student',                         # имя пользователя\n",
    "             'pwd': 'Sdf4$2;d-d30pp',                             # пароль\n",
    "             'host': 'rc1b-wcoijxj3yxfsf3fs.mdb.yandexcloud.net',\n",
    "             'port': 6432,                                        # порт подключения\n",
    "             'db': 'data-analyst-final-project-db'}               # название базы данных\n",
    "\n",
    "connection_string = 'postgresql://{user}:{pwd}@{host}:{port}/{db}'.format(**db_config)\n",
    "\n",
    "# сохраняем коннектор\n",
    "engine = create_engine(connection_string, connect_args={'sslmode':'require'})\n",
    "\n",
    "# создадим функцию для выполнения SQL-запросов\n",
    "def sql_query(query):\n",
    "    return pd.io.sql.read_sql(sql=text(query), con = engine.connect())"
   ]
  },
  {
   "cell_type": "markdown",
   "metadata": {},
   "source": [
    "### Загрузка и просмотр таблицы books"
   ]
  },
  {
   "cell_type": "code",
   "execution_count": 2,
   "metadata": {},
   "outputs": [
    {
     "data": {
      "text/html": [
       "<div>\n",
       "<style scoped>\n",
       "    .dataframe tbody tr th:only-of-type {\n",
       "        vertical-align: middle;\n",
       "    }\n",
       "\n",
       "    .dataframe tbody tr th {\n",
       "        vertical-align: top;\n",
       "    }\n",
       "\n",
       "    .dataframe thead th {\n",
       "        text-align: right;\n",
       "    }\n",
       "</style>\n",
       "<table border=\"1\" class=\"dataframe\">\n",
       "  <thead>\n",
       "    <tr style=\"text-align: right;\">\n",
       "      <th></th>\n",
       "      <th>book_id</th>\n",
       "      <th>author_id</th>\n",
       "      <th>title</th>\n",
       "      <th>num_pages</th>\n",
       "      <th>publication_date</th>\n",
       "      <th>publisher_id</th>\n",
       "    </tr>\n",
       "  </thead>\n",
       "  <tbody>\n",
       "    <tr>\n",
       "      <th>0</th>\n",
       "      <td>1</td>\n",
       "      <td>546</td>\n",
       "      <td>'Salem's Lot</td>\n",
       "      <td>594</td>\n",
       "      <td>2005-11-01</td>\n",
       "      <td>93</td>\n",
       "    </tr>\n",
       "    <tr>\n",
       "      <th>1</th>\n",
       "      <td>2</td>\n",
       "      <td>465</td>\n",
       "      <td>1 000 Places to See Before You Die</td>\n",
       "      <td>992</td>\n",
       "      <td>2003-05-22</td>\n",
       "      <td>336</td>\n",
       "    </tr>\n",
       "    <tr>\n",
       "      <th>2</th>\n",
       "      <td>3</td>\n",
       "      <td>407</td>\n",
       "      <td>13 Little Blue Envelopes (Little Blue Envelope...</td>\n",
       "      <td>322</td>\n",
       "      <td>2010-12-21</td>\n",
       "      <td>135</td>\n",
       "    </tr>\n",
       "    <tr>\n",
       "      <th>3</th>\n",
       "      <td>4</td>\n",
       "      <td>82</td>\n",
       "      <td>1491: New Revelations of the Americas Before C...</td>\n",
       "      <td>541</td>\n",
       "      <td>2006-10-10</td>\n",
       "      <td>309</td>\n",
       "    </tr>\n",
       "    <tr>\n",
       "      <th>4</th>\n",
       "      <td>5</td>\n",
       "      <td>125</td>\n",
       "      <td>1776</td>\n",
       "      <td>386</td>\n",
       "      <td>2006-07-04</td>\n",
       "      <td>268</td>\n",
       "    </tr>\n",
       "  </tbody>\n",
       "</table>\n",
       "</div>"
      ],
      "text/plain": [
       "   book_id  author_id                                              title  \\\n",
       "0        1        546                                       'Salem's Lot   \n",
       "1        2        465                 1 000 Places to See Before You Die   \n",
       "2        3        407  13 Little Blue Envelopes (Little Blue Envelope...   \n",
       "3        4         82  1491: New Revelations of the Americas Before C...   \n",
       "4        5        125                                               1776   \n",
       "\n",
       "   num_pages publication_date  publisher_id  \n",
       "0        594       2005-11-01            93  \n",
       "1        992       2003-05-22           336  \n",
       "2        322       2010-12-21           135  \n",
       "3        541       2006-10-10           309  \n",
       "4        386       2006-07-04           268  "
      ]
     },
     "execution_count": 2,
     "metadata": {},
     "output_type": "execute_result"
    }
   ],
   "source": [
    "books = '''SELECT * \n",
    "           FROM books \n",
    "           LIMIT 5'''\n",
    "sql_query(books)"
   ]
  },
  {
   "cell_type": "markdown",
   "metadata": {},
   "source": [
    "Таблица состоит из шести полей: идентификатор книги и автора, название книги, количество страниц, дата публикации и идентификатор издательства."
   ]
  },
  {
   "cell_type": "markdown",
   "metadata": {},
   "source": [
    "### Загрузка и просмотр таблицы authors"
   ]
  },
  {
   "cell_type": "code",
   "execution_count": 3,
   "metadata": {},
   "outputs": [
    {
     "data": {
      "text/html": [
       "<div>\n",
       "<style scoped>\n",
       "    .dataframe tbody tr th:only-of-type {\n",
       "        vertical-align: middle;\n",
       "    }\n",
       "\n",
       "    .dataframe tbody tr th {\n",
       "        vertical-align: top;\n",
       "    }\n",
       "\n",
       "    .dataframe thead th {\n",
       "        text-align: right;\n",
       "    }\n",
       "</style>\n",
       "<table border=\"1\" class=\"dataframe\">\n",
       "  <thead>\n",
       "    <tr style=\"text-align: right;\">\n",
       "      <th></th>\n",
       "      <th>author_id</th>\n",
       "      <th>author</th>\n",
       "    </tr>\n",
       "  </thead>\n",
       "  <tbody>\n",
       "    <tr>\n",
       "      <th>0</th>\n",
       "      <td>1</td>\n",
       "      <td>A.S. Byatt</td>\n",
       "    </tr>\n",
       "    <tr>\n",
       "      <th>1</th>\n",
       "      <td>2</td>\n",
       "      <td>Aesop/Laura Harris/Laura Gibbs</td>\n",
       "    </tr>\n",
       "    <tr>\n",
       "      <th>2</th>\n",
       "      <td>3</td>\n",
       "      <td>Agatha Christie</td>\n",
       "    </tr>\n",
       "    <tr>\n",
       "      <th>3</th>\n",
       "      <td>4</td>\n",
       "      <td>Alan Brennert</td>\n",
       "    </tr>\n",
       "    <tr>\n",
       "      <th>4</th>\n",
       "      <td>5</td>\n",
       "      <td>Alan Moore/David   Lloyd</td>\n",
       "    </tr>\n",
       "  </tbody>\n",
       "</table>\n",
       "</div>"
      ],
      "text/plain": [
       "   author_id                          author\n",
       "0          1                      A.S. Byatt\n",
       "1          2  Aesop/Laura Harris/Laura Gibbs\n",
       "2          3                 Agatha Christie\n",
       "3          4                   Alan Brennert\n",
       "4          5        Alan Moore/David   Lloyd"
      ]
     },
     "execution_count": 3,
     "metadata": {},
     "output_type": "execute_result"
    }
   ],
   "source": [
    "authors = '''SELECT *\n",
    "             FROM authors\n",
    "             LIMIT 5'''\n",
    "sql_query(authors)"
   ]
  },
  {
   "cell_type": "markdown",
   "metadata": {},
   "source": [
    "Таблица состоит из двух полей: идентификатор автора и имя автора."
   ]
  },
  {
   "cell_type": "markdown",
   "metadata": {},
   "source": [
    "### Загрузка и просмотр таблицы  publishers"
   ]
  },
  {
   "cell_type": "code",
   "execution_count": 4,
   "metadata": {},
   "outputs": [
    {
     "data": {
      "text/html": [
       "<div>\n",
       "<style scoped>\n",
       "    .dataframe tbody tr th:only-of-type {\n",
       "        vertical-align: middle;\n",
       "    }\n",
       "\n",
       "    .dataframe tbody tr th {\n",
       "        vertical-align: top;\n",
       "    }\n",
       "\n",
       "    .dataframe thead th {\n",
       "        text-align: right;\n",
       "    }\n",
       "</style>\n",
       "<table border=\"1\" class=\"dataframe\">\n",
       "  <thead>\n",
       "    <tr style=\"text-align: right;\">\n",
       "      <th></th>\n",
       "      <th>publisher_id</th>\n",
       "      <th>publisher</th>\n",
       "    </tr>\n",
       "  </thead>\n",
       "  <tbody>\n",
       "    <tr>\n",
       "      <th>0</th>\n",
       "      <td>1</td>\n",
       "      <td>Ace</td>\n",
       "    </tr>\n",
       "    <tr>\n",
       "      <th>1</th>\n",
       "      <td>2</td>\n",
       "      <td>Ace Book</td>\n",
       "    </tr>\n",
       "    <tr>\n",
       "      <th>2</th>\n",
       "      <td>3</td>\n",
       "      <td>Ace Books</td>\n",
       "    </tr>\n",
       "    <tr>\n",
       "      <th>3</th>\n",
       "      <td>4</td>\n",
       "      <td>Ace Hardcover</td>\n",
       "    </tr>\n",
       "    <tr>\n",
       "      <th>4</th>\n",
       "      <td>5</td>\n",
       "      <td>Addison Wesley Publishing Company</td>\n",
       "    </tr>\n",
       "  </tbody>\n",
       "</table>\n",
       "</div>"
      ],
      "text/plain": [
       "   publisher_id                          publisher\n",
       "0             1                                Ace\n",
       "1             2                           Ace Book\n",
       "2             3                          Ace Books\n",
       "3             4                      Ace Hardcover\n",
       "4             5  Addison Wesley Publishing Company"
      ]
     },
     "execution_count": 4,
     "metadata": {},
     "output_type": "execute_result"
    }
   ],
   "source": [
    "publishers = '''SELECT * \n",
    "                FROM publishers\n",
    "                LIMIT 5'''\n",
    "sql_query(publishers)"
   ]
  },
  {
   "cell_type": "markdown",
   "metadata": {},
   "source": [
    "Таблица состоит из двух полей: идентификатор издательства и название издательства"
   ]
  },
  {
   "cell_type": "markdown",
   "metadata": {},
   "source": [
    "### Загрузка и просмотр таблицы ratings"
   ]
  },
  {
   "cell_type": "code",
   "execution_count": 5,
   "metadata": {},
   "outputs": [
    {
     "data": {
      "text/html": [
       "<div>\n",
       "<style scoped>\n",
       "    .dataframe tbody tr th:only-of-type {\n",
       "        vertical-align: middle;\n",
       "    }\n",
       "\n",
       "    .dataframe tbody tr th {\n",
       "        vertical-align: top;\n",
       "    }\n",
       "\n",
       "    .dataframe thead th {\n",
       "        text-align: right;\n",
       "    }\n",
       "</style>\n",
       "<table border=\"1\" class=\"dataframe\">\n",
       "  <thead>\n",
       "    <tr style=\"text-align: right;\">\n",
       "      <th></th>\n",
       "      <th>rating_id</th>\n",
       "      <th>book_id</th>\n",
       "      <th>username</th>\n",
       "      <th>rating</th>\n",
       "    </tr>\n",
       "  </thead>\n",
       "  <tbody>\n",
       "    <tr>\n",
       "      <th>0</th>\n",
       "      <td>1</td>\n",
       "      <td>1</td>\n",
       "      <td>ryanfranco</td>\n",
       "      <td>4</td>\n",
       "    </tr>\n",
       "    <tr>\n",
       "      <th>1</th>\n",
       "      <td>2</td>\n",
       "      <td>1</td>\n",
       "      <td>grantpatricia</td>\n",
       "      <td>2</td>\n",
       "    </tr>\n",
       "    <tr>\n",
       "      <th>2</th>\n",
       "      <td>3</td>\n",
       "      <td>1</td>\n",
       "      <td>brandtandrea</td>\n",
       "      <td>5</td>\n",
       "    </tr>\n",
       "    <tr>\n",
       "      <th>3</th>\n",
       "      <td>4</td>\n",
       "      <td>2</td>\n",
       "      <td>lorichen</td>\n",
       "      <td>3</td>\n",
       "    </tr>\n",
       "    <tr>\n",
       "      <th>4</th>\n",
       "      <td>5</td>\n",
       "      <td>2</td>\n",
       "      <td>mariokeller</td>\n",
       "      <td>2</td>\n",
       "    </tr>\n",
       "  </tbody>\n",
       "</table>\n",
       "</div>"
      ],
      "text/plain": [
       "   rating_id  book_id       username  rating\n",
       "0          1        1     ryanfranco       4\n",
       "1          2        1  grantpatricia       2\n",
       "2          3        1   brandtandrea       5\n",
       "3          4        2       lorichen       3\n",
       "4          5        2    mariokeller       2"
      ]
     },
     "execution_count": 5,
     "metadata": {},
     "output_type": "execute_result"
    }
   ],
   "source": [
    "ratings = '''SELECT * \n",
    "             FROM ratings\n",
    "             LIMIT 5'''\n",
    "sql_query(ratings)"
   ]
  },
  {
   "cell_type": "markdown",
   "metadata": {},
   "source": [
    "Таблица состоит из четырех полей: идентификатор рейтинга, идентификатор книги, имя пользователя, рейтинг."
   ]
  },
  {
   "cell_type": "markdown",
   "metadata": {},
   "source": [
    "### Загрузка и просмотр таблицы reviews"
   ]
  },
  {
   "cell_type": "code",
   "execution_count": 6,
   "metadata": {},
   "outputs": [
    {
     "data": {
      "text/html": [
       "<div>\n",
       "<style scoped>\n",
       "    .dataframe tbody tr th:only-of-type {\n",
       "        vertical-align: middle;\n",
       "    }\n",
       "\n",
       "    .dataframe tbody tr th {\n",
       "        vertical-align: top;\n",
       "    }\n",
       "\n",
       "    .dataframe thead th {\n",
       "        text-align: right;\n",
       "    }\n",
       "</style>\n",
       "<table border=\"1\" class=\"dataframe\">\n",
       "  <thead>\n",
       "    <tr style=\"text-align: right;\">\n",
       "      <th></th>\n",
       "      <th>review_id</th>\n",
       "      <th>book_id</th>\n",
       "      <th>username</th>\n",
       "      <th>text</th>\n",
       "    </tr>\n",
       "  </thead>\n",
       "  <tbody>\n",
       "    <tr>\n",
       "      <th>0</th>\n",
       "      <td>1</td>\n",
       "      <td>1</td>\n",
       "      <td>brandtandrea</td>\n",
       "      <td>Mention society tell send professor analysis. ...</td>\n",
       "    </tr>\n",
       "    <tr>\n",
       "      <th>1</th>\n",
       "      <td>2</td>\n",
       "      <td>1</td>\n",
       "      <td>ryanfranco</td>\n",
       "      <td>Foot glass pretty audience hit themselves. Amo...</td>\n",
       "    </tr>\n",
       "    <tr>\n",
       "      <th>2</th>\n",
       "      <td>3</td>\n",
       "      <td>2</td>\n",
       "      <td>lorichen</td>\n",
       "      <td>Listen treat keep worry. Miss husband tax but ...</td>\n",
       "    </tr>\n",
       "    <tr>\n",
       "      <th>3</th>\n",
       "      <td>4</td>\n",
       "      <td>3</td>\n",
       "      <td>johnsonamanda</td>\n",
       "      <td>Finally month interesting blue could nature cu...</td>\n",
       "    </tr>\n",
       "    <tr>\n",
       "      <th>4</th>\n",
       "      <td>5</td>\n",
       "      <td>3</td>\n",
       "      <td>scotttamara</td>\n",
       "      <td>Nation purpose heavy give wait song will. List...</td>\n",
       "    </tr>\n",
       "  </tbody>\n",
       "</table>\n",
       "</div>"
      ],
      "text/plain": [
       "   review_id  book_id       username  \\\n",
       "0          1        1   brandtandrea   \n",
       "1          2        1     ryanfranco   \n",
       "2          3        2       lorichen   \n",
       "3          4        3  johnsonamanda   \n",
       "4          5        3    scotttamara   \n",
       "\n",
       "                                                text  \n",
       "0  Mention society tell send professor analysis. ...  \n",
       "1  Foot glass pretty audience hit themselves. Amo...  \n",
       "2  Listen treat keep worry. Miss husband tax but ...  \n",
       "3  Finally month interesting blue could nature cu...  \n",
       "4  Nation purpose heavy give wait song will. List...  "
      ]
     },
     "execution_count": 6,
     "metadata": {},
     "output_type": "execute_result"
    }
   ],
   "source": [
    "reviews = '''SELECT * \n",
    "             FROM reviews\n",
    "             LIMIT 5'''\n",
    "sql_query(reviews)"
   ]
  },
  {
   "cell_type": "markdown",
   "metadata": {},
   "source": [
    "Таблица состоит из четырех полей: идентификатор обзора, идентификатор книги, имя пользователя, текст обзора."
   ]
  },
  {
   "cell_type": "markdown",
   "metadata": {},
   "source": [
    "**Вывод по разделу:** в рамках данного раздела мы загрузили таблицы из базы данных, посмотрели их структуру и убедились, что их содержание соответствует описанию."
   ]
  },
  {
   "cell_type": "markdown",
   "metadata": {},
   "source": [
    " <div class=\"alert alert-success\">\n",
    " <b>👍 Успех:</b> Есть описание задачи, импортированы все нужные библиотеки, создано подключение к БД, просмотрены таблицы\n",
    " </div>"
   ]
  },
  {
   "cell_type": "markdown",
   "metadata": {},
   "source": [
    "## Исследовательский анализ"
   ]
  },
  {
   "cell_type": "markdown",
   "metadata": {},
   "source": [
    "### Расчет числа книг, выпущенных после 1 января 2000 года"
   ]
  },
  {
   "cell_type": "code",
   "execution_count": 7,
   "metadata": {},
   "outputs": [
    {
     "data": {
      "text/html": [
       "<div>\n",
       "<style scoped>\n",
       "    .dataframe tbody tr th:only-of-type {\n",
       "        vertical-align: middle;\n",
       "    }\n",
       "\n",
       "    .dataframe tbody tr th {\n",
       "        vertical-align: top;\n",
       "    }\n",
       "\n",
       "    .dataframe thead th {\n",
       "        text-align: right;\n",
       "    }\n",
       "</style>\n",
       "<table border=\"1\" class=\"dataframe\">\n",
       "  <thead>\n",
       "    <tr style=\"text-align: right;\">\n",
       "      <th></th>\n",
       "      <th>count</th>\n",
       "    </tr>\n",
       "  </thead>\n",
       "  <tbody>\n",
       "    <tr>\n",
       "      <th>0</th>\n",
       "      <td>819</td>\n",
       "    </tr>\n",
       "  </tbody>\n",
       "</table>\n",
       "</div>"
      ],
      "text/plain": [
       "   count\n",
       "0    819"
      ]
     },
     "execution_count": 7,
     "metadata": {},
     "output_type": "execute_result"
    }
   ],
   "source": [
    "books_after_01012000 = '''SELECT COUNT(*)\n",
    "                          FROM books\n",
    "                          WHERE publication_date > '2000-01-01'\n",
    "                       '''\n",
    "sql_query(books_after_01012000)"
   ]
  },
  {
   "cell_type": "markdown",
   "metadata": {},
   "source": [
    "**Вывод:** количество книг, выпущенных после 1 января 2000 года составляет 819."
   ]
  },
  {
   "cell_type": "markdown",
   "metadata": {},
   "source": [
    " <div class=\"alert alert-success\">\n",
    " <b>👍 Успех:</b> Все верно!\n",
    " </div>"
   ]
  },
  {
   "cell_type": "markdown",
   "metadata": {},
   "source": [
    "### Количество обзоров и средняя оценка книг"
   ]
  },
  {
   "cell_type": "code",
   "execution_count": 8,
   "metadata": {},
   "outputs": [
    {
     "data": {
      "text/html": [
       "<div>\n",
       "<style scoped>\n",
       "    .dataframe tbody tr th:only-of-type {\n",
       "        vertical-align: middle;\n",
       "    }\n",
       "\n",
       "    .dataframe tbody tr th {\n",
       "        vertical-align: top;\n",
       "    }\n",
       "\n",
       "    .dataframe thead th {\n",
       "        text-align: right;\n",
       "    }\n",
       "</style>\n",
       "<table border=\"1\" class=\"dataframe\">\n",
       "  <thead>\n",
       "    <tr style=\"text-align: right;\">\n",
       "      <th></th>\n",
       "      <th>book_id</th>\n",
       "      <th>title</th>\n",
       "      <th>review_count</th>\n",
       "      <th>average_rating</th>\n",
       "    </tr>\n",
       "  </thead>\n",
       "  <tbody>\n",
       "    <tr>\n",
       "      <th>0</th>\n",
       "      <td>1</td>\n",
       "      <td>'Salem's Lot</td>\n",
       "      <td>2</td>\n",
       "      <td>3.67</td>\n",
       "    </tr>\n",
       "    <tr>\n",
       "      <th>1</th>\n",
       "      <td>2</td>\n",
       "      <td>1 000 Places to See Before You Die</td>\n",
       "      <td>1</td>\n",
       "      <td>2.50</td>\n",
       "    </tr>\n",
       "    <tr>\n",
       "      <th>2</th>\n",
       "      <td>3</td>\n",
       "      <td>13 Little Blue Envelopes (Little Blue Envelope...</td>\n",
       "      <td>3</td>\n",
       "      <td>4.67</td>\n",
       "    </tr>\n",
       "    <tr>\n",
       "      <th>3</th>\n",
       "      <td>4</td>\n",
       "      <td>1491: New Revelations of the Americas Before C...</td>\n",
       "      <td>2</td>\n",
       "      <td>4.50</td>\n",
       "    </tr>\n",
       "    <tr>\n",
       "      <th>4</th>\n",
       "      <td>5</td>\n",
       "      <td>1776</td>\n",
       "      <td>4</td>\n",
       "      <td>4.00</td>\n",
       "    </tr>\n",
       "    <tr>\n",
       "      <th>...</th>\n",
       "      <td>...</td>\n",
       "      <td>...</td>\n",
       "      <td>...</td>\n",
       "      <td>...</td>\n",
       "    </tr>\n",
       "    <tr>\n",
       "      <th>995</th>\n",
       "      <td>996</td>\n",
       "      <td>Wyrd Sisters (Discworld  #6; Witches #2)</td>\n",
       "      <td>3</td>\n",
       "      <td>3.67</td>\n",
       "    </tr>\n",
       "    <tr>\n",
       "      <th>996</th>\n",
       "      <td>997</td>\n",
       "      <td>Xenocide (Ender's Saga  #3)</td>\n",
       "      <td>3</td>\n",
       "      <td>3.40</td>\n",
       "    </tr>\n",
       "    <tr>\n",
       "      <th>997</th>\n",
       "      <td>998</td>\n",
       "      <td>Year of Wonders</td>\n",
       "      <td>4</td>\n",
       "      <td>3.20</td>\n",
       "    </tr>\n",
       "    <tr>\n",
       "      <th>998</th>\n",
       "      <td>999</td>\n",
       "      <td>You Suck (A Love Story  #2)</td>\n",
       "      <td>2</td>\n",
       "      <td>4.50</td>\n",
       "    </tr>\n",
       "    <tr>\n",
       "      <th>999</th>\n",
       "      <td>1000</td>\n",
       "      <td>Zen and the Art of Motorcycle Maintenance: An ...</td>\n",
       "      <td>4</td>\n",
       "      <td>3.83</td>\n",
       "    </tr>\n",
       "  </tbody>\n",
       "</table>\n",
       "<p>1000 rows × 4 columns</p>\n",
       "</div>"
      ],
      "text/plain": [
       "     book_id                                              title  review_count  \\\n",
       "0          1                                       'Salem's Lot             2   \n",
       "1          2                 1 000 Places to See Before You Die             1   \n",
       "2          3  13 Little Blue Envelopes (Little Blue Envelope...             3   \n",
       "3          4  1491: New Revelations of the Americas Before C...             2   \n",
       "4          5                                               1776             4   \n",
       "..       ...                                                ...           ...   \n",
       "995      996           Wyrd Sisters (Discworld  #6; Witches #2)             3   \n",
       "996      997                        Xenocide (Ender's Saga  #3)             3   \n",
       "997      998                                    Year of Wonders             4   \n",
       "998      999                        You Suck (A Love Story  #2)             2   \n",
       "999     1000  Zen and the Art of Motorcycle Maintenance: An ...             4   \n",
       "\n",
       "     average_rating  \n",
       "0              3.67  \n",
       "1              2.50  \n",
       "2              4.67  \n",
       "3              4.50  \n",
       "4              4.00  \n",
       "..              ...  \n",
       "995            3.67  \n",
       "996            3.40  \n",
       "997            3.20  \n",
       "998            4.50  \n",
       "999            3.83  \n",
       "\n",
       "[1000 rows x 4 columns]"
      ]
     },
     "execution_count": 8,
     "metadata": {},
     "output_type": "execute_result"
    }
   ],
   "source": [
    "review_rating = '''SELECT b.book_id,\n",
    "                          b.title,\n",
    "                          COUNT(DISTINCT rv.review_id) as review_count,\n",
    "                          ROUND(AVG(r.rating), 2) as average_rating\n",
    "                   FROM books as b\n",
    "                   LEFT JOIN reviews as rv ON b.book_id = rv.book_id\n",
    "                   LEFT JOIN ratings as r ON b.book_id = r.book_id\n",
    "                   GROUP BY b.book_id\n",
    "                   ORDER BY b.book_id\n",
    "                '''\n",
    "\n",
    "sql_query(review_rating)"
   ]
  },
  {
   "cell_type": "markdown",
   "metadata": {},
   "source": [
    "**Вывод:** составлена таблица с идентификатором книги, ее наименованием, количеством обзоров и средним рейтингом."
   ]
  },
  {
   "cell_type": "markdown",
   "metadata": {},
   "source": [
    " <div class=\"alert alert-danger\">\n",
    "<s> <b>😔 Необходимо исправить:</b> Обзоров получилось слишком много, нужно посчитать только уникальные</s>\n",
    " </div>"
   ]
  },
  {
   "cell_type": "markdown",
   "metadata": {},
   "source": [
    "<div class=\"alert alert-info\"> <b>🎓 Комментарий студента:</b> Поправила! </div>"
   ]
  },
  {
   "cell_type": "markdown",
   "metadata": {},
   "source": [
    "<div class=\"alert alert-success\">\n",
    "<b>👍 Успех:</b> Все верно!\n",
    "</div>"
   ]
  },
  {
   "cell_type": "markdown",
   "metadata": {},
   "source": [
    "### Выявление издательства, которое выпустило наибольшее число книг толще 50 страниц (для исключения брошюр)"
   ]
  },
  {
   "cell_type": "code",
   "execution_count": 9,
   "metadata": {},
   "outputs": [
    {
     "data": {
      "text/html": [
       "<div>\n",
       "<style scoped>\n",
       "    .dataframe tbody tr th:only-of-type {\n",
       "        vertical-align: middle;\n",
       "    }\n",
       "\n",
       "    .dataframe tbody tr th {\n",
       "        vertical-align: top;\n",
       "    }\n",
       "\n",
       "    .dataframe thead th {\n",
       "        text-align: right;\n",
       "    }\n",
       "</style>\n",
       "<table border=\"1\" class=\"dataframe\">\n",
       "  <thead>\n",
       "    <tr style=\"text-align: right;\">\n",
       "      <th></th>\n",
       "      <th>publisher</th>\n",
       "    </tr>\n",
       "  </thead>\n",
       "  <tbody>\n",
       "    <tr>\n",
       "      <th>0</th>\n",
       "      <td>Penguin Books</td>\n",
       "    </tr>\n",
       "  </tbody>\n",
       "</table>\n",
       "</div>"
      ],
      "text/plain": [
       "       publisher\n",
       "0  Penguin Books"
      ]
     },
     "execution_count": 9,
     "metadata": {},
     "output_type": "execute_result"
    }
   ],
   "source": [
    "publisher_top_1 = '''SELECT publisher\n",
    "                     FROM (SELECT p.publisher as publisher,\n",
    "                                  COUNT(b.book_id) as book_cnt\n",
    "                           FROM books as b\n",
    "                           LEFT JOIN publishers as p on p.publisher_id = b.publisher_id\n",
    "                           WHERE b.num_pages > 50\n",
    "                           GROUP BY p.publisher\n",
    "                           ORDER BY COUNT(b.book_id) DESC) AS tbl\n",
    "                           LIMIT 1\n",
    "                  '''\n",
    "sql_query(publisher_top_1)"
   ]
  },
  {
   "cell_type": "markdown",
   "metadata": {},
   "source": [
    "**Вывод:** издательство Penguin Books выпустило наибольшее число книг толще 50 страниц."
   ]
  },
  {
   "cell_type": "markdown",
   "metadata": {},
   "source": [
    " <div class=\"alert alert-success\">\n",
    " <b>👍 Успех:</b> Все верно!\n",
    " </div>"
   ]
  },
  {
   "cell_type": "markdown",
   "metadata": {},
   "source": [
    "### Автор с самой высокой средней оценкой книг (с учетом книг с 50 и более оценками)"
   ]
  },
  {
   "cell_type": "code",
   "execution_count": 10,
   "metadata": {},
   "outputs": [
    {
     "data": {
      "text/html": [
       "<div>\n",
       "<style scoped>\n",
       "    .dataframe tbody tr th:only-of-type {\n",
       "        vertical-align: middle;\n",
       "    }\n",
       "\n",
       "    .dataframe tbody tr th {\n",
       "        vertical-align: top;\n",
       "    }\n",
       "\n",
       "    .dataframe thead th {\n",
       "        text-align: right;\n",
       "    }\n",
       "</style>\n",
       "<table border=\"1\" class=\"dataframe\">\n",
       "  <thead>\n",
       "    <tr style=\"text-align: right;\">\n",
       "      <th></th>\n",
       "      <th>author</th>\n",
       "    </tr>\n",
       "  </thead>\n",
       "  <tbody>\n",
       "    <tr>\n",
       "      <th>0</th>\n",
       "      <td>J.K. Rowling/Mary GrandPré</td>\n",
       "    </tr>\n",
       "  </tbody>\n",
       "</table>\n",
       "</div>"
      ],
      "text/plain": [
       "                       author\n",
       "0  J.K. Rowling/Mary GrandPré"
      ]
     },
     "execution_count": 10,
     "metadata": {},
     "output_type": "execute_result"
    }
   ],
   "source": [
    "author_top_1 = '''WITH tbl AS (SELECT b.book_id as book_id,\n",
    "                                      b.author_id as author_id,\n",
    "                                      COUNT(r.rating_id) as rating_cnt,\n",
    "                                      AVG(r.rating) as rating_avg\n",
    "                               FROM books as b\n",
    "                               JOIN ratings as r on r.book_id=b.book_id\n",
    "                               GROUP BY b.book_id\n",
    "                               HAVING COUNT(r.rating_id) >= 50)\n",
    "\n",
    "                  SELECT author\n",
    "                  FROM (SELECT a.author,\n",
    "                               AVG(tbl.rating_avg)\n",
    "                        FROM authors as a\n",
    "                        INNER JOIN tbl ON a.author_id = tbl.author_id\n",
    "                        GROUP BY a.author\n",
    "                        ORDER BY AVG(tbl.rating_avg) DESC) as qr\n",
    "                  LIMIT 1\n",
    "               '''\n",
    "\n",
    "sql_query(author_top_1)"
   ]
  },
  {
   "cell_type": "markdown",
   "metadata": {},
   "source": [
    "**Вывод:** автор с самой высокой средней оценкой книг (учитывая только книги с 50 оценками и выше) - J.K. Rowling/Mary GrandPré."
   ]
  },
  {
   "cell_type": "markdown",
   "metadata": {},
   "source": [
    " <div class=\"alert alert-success\">\n",
    " <b>👍 Успех:</b> Все верно!\n",
    " </div>"
   ]
  },
  {
   "cell_type": "markdown",
   "metadata": {},
   "source": [
    "### Среднее количество обзоров от пользователей, поставивших более 48 оценок."
   ]
  },
  {
   "cell_type": "code",
   "execution_count": 11,
   "metadata": {},
   "outputs": [
    {
     "data": {
      "text/html": [
       "<div>\n",
       "<style scoped>\n",
       "    .dataframe tbody tr th:only-of-type {\n",
       "        vertical-align: middle;\n",
       "    }\n",
       "\n",
       "    .dataframe tbody tr th {\n",
       "        vertical-align: top;\n",
       "    }\n",
       "\n",
       "    .dataframe thead th {\n",
       "        text-align: right;\n",
       "    }\n",
       "</style>\n",
       "<table border=\"1\" class=\"dataframe\">\n",
       "  <thead>\n",
       "    <tr style=\"text-align: right;\">\n",
       "      <th></th>\n",
       "      <th>reviews_mean</th>\n",
       "    </tr>\n",
       "  </thead>\n",
       "  <tbody>\n",
       "    <tr>\n",
       "      <th>0</th>\n",
       "      <td>24.0</td>\n",
       "    </tr>\n",
       "  </tbody>\n",
       "</table>\n",
       "</div>"
      ],
      "text/plain": [
       "   reviews_mean\n",
       "0          24.0"
      ]
     },
     "execution_count": 11,
     "metadata": {},
     "output_type": "execute_result"
    }
   ],
   "source": [
    "reviews_mean = '''WITH rtcnt AS (SELECT username,\n",
    "                                        COUNT(rating_id) as rating_cnt\n",
    "                                 FROM ratings\n",
    "                                 GROUP BY username\n",
    "                                 HAVING COUNT(rating_id) > 48),\n",
    "                       rvcnt AS (SELECT username,\n",
    "                                        COUNT(review_id) as review_cnt\n",
    "                                 FROM reviews\n",
    "                                 GROUP BY username)\n",
    "                  SELECT AVG(review_cnt) as reviews_mean\n",
    "                  FROM rvcnt\n",
    "                  INNER JOIN rtcnt ON rvcnt.username = rtcnt.username\n",
    "               '''\n",
    "\n",
    "sql_query(reviews_mean)"
   ]
  },
  {
   "cell_type": "markdown",
   "metadata": {},
   "source": [
    "**Вывод:** среднее количество обзоров от пользователей, которые поставили более 48 оценок, составляет 24."
   ]
  },
  {
   "cell_type": "markdown",
   "metadata": {},
   "source": [
    " <div class=\"alert alert-success\">\n",
    " <b>👍 Успех:</b> Все верно!\n",
    " </div>"
   ]
  },
  {
   "cell_type": "markdown",
   "metadata": {},
   "source": [
    "## Выводы"
   ]
  },
  {
   "cell_type": "markdown",
   "metadata": {},
   "source": [
    "В рамках данного проекта мы провели исследование базы данных сервиса для чтения книг по подписке и выполнили следующие работы:  \n",
    "1. Посчитали, что после 1 января 2000 года было выпущено 819 книг.  \n",
    "2. Построили сводную таблицу, где для каждой книги указали количество обзоров и среднюю оценку.  \n",
    "3. Определили, что наибольшее число книг толще 50 страниц было выпущено издательством Penguin Books.  \n",
    "4. Выявили, что автор с самой высокой средней оценкой книг - J.K. Rowling/Mary GrandPré.  \n",
    "5. Посчитали, что пользователи, поставившие более 48 оценок, написали в среднем 24 обзора."
   ]
  },
  {
   "cell_type": "markdown",
   "metadata": {},
   "source": [
    "<div class=\"alert alert-success\">\n",
    "<b>👍 Успех:</b> Хорошая работа, поздравляю с окончанием курса! Рекомендую еще пройти бесплатный курс от практикума по <a href='https://practicum.yandex.ru/ycloud-datalens/'> DataLens</a>\n",
    "   Дополнительную информацию по SQL  можно посмотреть и потренироваться <a href='https://sql-ex.ru'> здесь</a>, <a href='https://pgexercises.com'> здесь</a>, <a href='https://sql-academy.org'> здесь</a>, <a href='https://stepik.org/course/63054/info'> здесь</a>, <a href='https://Itresume.ru'> здесь</a>\n",
    "</div>"
   ]
  },
  {
   "cell_type": "code",
   "execution_count": null,
   "metadata": {},
   "outputs": [],
   "source": []
  }
 ],
 "metadata": {
  "ExecuteTimeLog": [
   {
    "duration": 5591,
    "start_time": "2024-05-14T10:35:27.954Z"
   },
   {
    "duration": 320,
    "start_time": "2024-05-14T10:39:28.889Z"
   },
   {
    "duration": 300,
    "start_time": "2024-05-14T10:39:43.174Z"
   },
   {
    "duration": 274,
    "start_time": "2024-05-14T10:40:07.437Z"
   },
   {
    "duration": 178,
    "start_time": "2024-05-14T10:40:53.530Z"
   },
   {
    "duration": 41,
    "start_time": "2024-05-14T10:40:54.785Z"
   },
   {
    "duration": 29,
    "start_time": "2024-05-14T10:42:39.945Z"
   },
   {
    "duration": 29,
    "start_time": "2024-05-14T10:43:41.016Z"
   },
   {
    "duration": 32,
    "start_time": "2024-05-14T10:43:51.761Z"
   },
   {
    "duration": 30,
    "start_time": "2024-05-14T10:44:01.454Z"
   },
   {
    "duration": 29,
    "start_time": "2024-05-14T10:46:14.823Z"
   },
   {
    "duration": 31,
    "start_time": "2024-05-14T10:47:27.650Z"
   },
   {
    "duration": 2,
    "start_time": "2024-05-14T11:01:12.715Z"
   },
   {
    "duration": 111,
    "start_time": "2024-05-14T11:01:20.193Z"
   },
   {
    "duration": 39,
    "start_time": "2024-05-14T11:01:31.190Z"
   },
   {
    "duration": 48,
    "start_time": "2024-05-14T11:05:55.451Z"
   },
   {
    "duration": 59,
    "start_time": "2024-05-14T11:06:16.244Z"
   },
   {
    "duration": 77,
    "start_time": "2024-05-14T11:06:43.009Z"
   },
   {
    "duration": 70,
    "start_time": "2024-05-14T11:11:14.062Z"
   },
   {
    "duration": 63,
    "start_time": "2024-05-14T11:12:15.817Z"
   },
   {
    "duration": 63,
    "start_time": "2024-05-14T11:13:36.400Z"
   },
   {
    "duration": 52,
    "start_time": "2024-05-14T11:21:00.514Z"
   },
   {
    "duration": 60,
    "start_time": "2024-05-14T11:21:34.313Z"
   },
   {
    "duration": 59,
    "start_time": "2024-05-14T11:21:53.306Z"
   },
   {
    "duration": 40,
    "start_time": "2024-05-14T11:22:09.855Z"
   },
   {
    "duration": 29,
    "start_time": "2024-05-14T11:22:42.793Z"
   },
   {
    "duration": 179,
    "start_time": "2024-05-14T12:20:01.105Z"
   },
   {
    "duration": 42,
    "start_time": "2024-05-14T12:20:01.286Z"
   },
   {
    "duration": 67,
    "start_time": "2024-05-14T12:20:01.329Z"
   },
   {
    "duration": 141,
    "start_time": "2024-05-14T12:20:01.397Z"
   },
   {
    "duration": 123,
    "start_time": "2024-05-14T12:20:01.539Z"
   },
   {
    "duration": 105,
    "start_time": "2024-05-14T12:20:01.663Z"
   },
   {
    "duration": 89,
    "start_time": "2024-05-14T12:20:01.769Z"
   },
   {
    "duration": 95,
    "start_time": "2024-05-14T12:20:01.860Z"
   },
   {
    "duration": 57,
    "start_time": "2024-05-14T12:20:39.962Z"
   },
   {
    "duration": 39,
    "start_time": "2024-05-14T12:20:46.817Z"
   },
   {
    "duration": 55,
    "start_time": "2024-05-14T12:24:46.112Z"
   },
   {
    "duration": 54,
    "start_time": "2024-05-14T12:25:27.811Z"
   },
   {
    "duration": 29,
    "start_time": "2024-05-14T12:26:57.733Z"
   },
   {
    "duration": 29,
    "start_time": "2024-05-14T12:27:02.927Z"
   },
   {
    "duration": 47,
    "start_time": "2024-05-14T12:29:56.621Z"
   },
   {
    "duration": 59,
    "start_time": "2024-05-14T12:30:16.399Z"
   },
   {
    "duration": 59,
    "start_time": "2024-05-14T12:34:27.837Z"
   },
   {
    "duration": 59,
    "start_time": "2024-05-14T12:35:37.757Z"
   },
   {
    "duration": 68,
    "start_time": "2024-05-14T12:35:58.623Z"
   },
   {
    "duration": 59,
    "start_time": "2024-05-14T12:37:23.942Z"
   },
   {
    "duration": 60,
    "start_time": "2024-05-14T12:37:41.257Z"
   },
   {
    "duration": 38,
    "start_time": "2024-05-14T12:39:30.833Z"
   },
   {
    "duration": 57,
    "start_time": "2024-05-14T12:39:46.179Z"
   },
   {
    "duration": 31,
    "start_time": "2024-05-14T12:40:33.940Z"
   },
   {
    "duration": 32,
    "start_time": "2024-05-14T12:40:45.045Z"
   },
   {
    "duration": 40,
    "start_time": "2024-05-14T12:40:55.519Z"
   },
   {
    "duration": 49,
    "start_time": "2024-05-14T12:44:06.788Z"
   },
   {
    "duration": 40,
    "start_time": "2024-05-14T12:47:13.959Z"
   },
   {
    "duration": 29,
    "start_time": "2024-05-14T12:48:54.623Z"
   },
   {
    "duration": 4,
    "start_time": "2024-05-14T12:50:20.044Z"
   },
   {
    "duration": 221,
    "start_time": "2024-05-14T12:50:21.397Z"
   },
   {
    "duration": 49,
    "start_time": "2024-05-14T12:50:25.056Z"
   },
   {
    "duration": 48,
    "start_time": "2024-05-14T12:50:28.308Z"
   },
   {
    "duration": 4,
    "start_time": "2024-05-14T12:50:42.695Z"
   },
   {
    "duration": 280,
    "start_time": "2024-05-14T12:50:42.700Z"
   },
   {
    "duration": 50,
    "start_time": "2024-05-14T12:50:42.982Z"
   },
   {
    "duration": 49,
    "start_time": "2024-05-14T12:50:43.035Z"
   },
   {
    "duration": 51,
    "start_time": "2024-05-14T12:50:43.085Z"
   },
   {
    "duration": 51,
    "start_time": "2024-05-14T12:50:43.137Z"
   },
   {
    "duration": 49,
    "start_time": "2024-05-14T12:50:43.189Z"
   },
   {
    "duration": 86,
    "start_time": "2024-05-14T12:50:43.239Z"
   },
   {
    "duration": 50,
    "start_time": "2024-05-14T12:50:43.326Z"
   },
   {
    "duration": 55,
    "start_time": "2024-05-14T16:23:06.818Z"
   },
   {
    "duration": 5158,
    "start_time": "2024-05-14T16:23:09.853Z"
   },
   {
    "duration": 255,
    "start_time": "2024-05-14T16:23:15.013Z"
   },
   {
    "duration": 52,
    "start_time": "2024-05-14T16:23:15.270Z"
   },
   {
    "duration": 53,
    "start_time": "2024-05-14T16:23:15.324Z"
   },
   {
    "duration": 54,
    "start_time": "2024-05-14T16:23:15.379Z"
   },
   {
    "duration": 53,
    "start_time": "2024-05-14T16:23:15.434Z"
   },
   {
    "duration": 51,
    "start_time": "2024-05-14T16:23:15.488Z"
   },
   {
    "duration": 89,
    "start_time": "2024-05-14T16:23:15.540Z"
   },
   {
    "duration": 52,
    "start_time": "2024-05-14T16:23:15.630Z"
   },
   {
    "duration": 53,
    "start_time": "2024-05-14T16:23:17.995Z"
   },
   {
    "duration": 94,
    "start_time": "2024-05-14T16:23:41.021Z"
   },
   {
    "duration": 140,
    "start_time": "2024-05-14T16:24:02.168Z"
   },
   {
    "duration": 54,
    "start_time": "2024-05-14T16:24:22.487Z"
   },
   {
    "duration": 127,
    "start_time": "2024-05-14T16:34:52.257Z"
   },
   {
    "duration": 124,
    "start_time": "2024-05-14T16:35:04.073Z"
   },
   {
    "duration": 65,
    "start_time": "2024-05-14T16:36:31.769Z"
   },
   {
    "duration": 52,
    "start_time": "2024-05-14T16:36:44.573Z"
   },
   {
    "duration": 67,
    "start_time": "2024-05-14T16:37:18.561Z"
   },
   {
    "duration": 66,
    "start_time": "2024-05-14T16:37:58.598Z"
   },
   {
    "duration": 66,
    "start_time": "2024-05-14T16:38:02.234Z"
   },
   {
    "duration": 67,
    "start_time": "2024-05-14T16:38:58.731Z"
   },
   {
    "duration": 55,
    "start_time": "2024-05-14T16:39:13.229Z"
   },
   {
    "duration": 60,
    "start_time": "2024-05-14T17:20:42.780Z"
   },
   {
    "duration": 59,
    "start_time": "2024-05-14T17:21:31.161Z"
   },
   {
    "duration": 59,
    "start_time": "2024-05-14T17:21:54.619Z"
   },
   {
    "duration": 58,
    "start_time": "2024-05-14T17:22:55.692Z"
   },
   {
    "duration": 41,
    "start_time": "2024-05-14T17:26:36.913Z"
   },
   {
    "duration": 39,
    "start_time": "2024-05-14T17:27:22.757Z"
   },
   {
    "duration": 46,
    "start_time": "2024-05-14T17:29:30.389Z"
   },
   {
    "duration": 65,
    "start_time": "2024-05-14T17:29:40.879Z"
   },
   {
    "duration": 166,
    "start_time": "2024-05-14T17:29:52.454Z"
   },
   {
    "duration": 127,
    "start_time": "2024-05-14T17:30:03.937Z"
   },
   {
    "duration": 65,
    "start_time": "2024-05-14T17:31:20.664Z"
   },
   {
    "duration": 132,
    "start_time": "2024-05-14T17:31:39.954Z"
   },
   {
    "duration": 55,
    "start_time": "2024-05-14T17:36:04.776Z"
   },
   {
    "duration": 54,
    "start_time": "2024-05-14T17:42:19.067Z"
   },
   {
    "duration": 52,
    "start_time": "2024-05-14T17:42:22.461Z"
   },
   {
    "duration": 51,
    "start_time": "2024-05-14T17:42:41.401Z"
   },
   {
    "duration": 52,
    "start_time": "2024-05-14T17:42:50.695Z"
   },
   {
    "duration": 52,
    "start_time": "2024-05-14T17:43:09.503Z"
   },
   {
    "duration": 51,
    "start_time": "2024-05-14T17:43:46.548Z"
   },
   {
    "duration": 89,
    "start_time": "2024-05-14T17:44:04.508Z"
   },
   {
    "duration": 90,
    "start_time": "2024-05-14T17:44:19.889Z"
   },
   {
    "duration": 53,
    "start_time": "2024-05-14T17:44:59.199Z"
   },
   {
    "duration": 55,
    "start_time": "2024-05-14T17:45:12.606Z"
   },
   {
    "duration": 39,
    "start_time": "2024-05-14T17:47:24.858Z"
   },
   {
    "duration": 54,
    "start_time": "2024-05-14T17:47:31.757Z"
   },
   {
    "duration": 58,
    "start_time": "2024-05-14T17:49:17.895Z"
   },
   {
    "duration": 54,
    "start_time": "2024-05-14T17:53:40.562Z"
   },
   {
    "duration": 54,
    "start_time": "2024-05-14T17:54:59.081Z"
   },
   {
    "duration": 54,
    "start_time": "2024-05-14T17:55:02.748Z"
   },
   {
    "duration": 54,
    "start_time": "2024-05-14T17:55:19.632Z"
   },
   {
    "duration": 53,
    "start_time": "2024-05-14T17:55:31.707Z"
   },
   {
    "duration": 51,
    "start_time": "2024-05-14T18:03:12.630Z"
   },
   {
    "duration": 90,
    "start_time": "2024-05-14T18:03:44.733Z"
   },
   {
    "duration": 54,
    "start_time": "2024-05-14T18:04:54.529Z"
   },
   {
    "duration": 54,
    "start_time": "2024-05-14T18:05:08.615Z"
   },
   {
    "duration": 5,
    "start_time": "2024-05-14T18:05:59.462Z"
   },
   {
    "duration": 248,
    "start_time": "2024-05-14T18:06:01.176Z"
   },
   {
    "duration": 6063,
    "start_time": "2024-05-14T18:06:11.430Z"
   },
   {
    "duration": 237,
    "start_time": "2024-05-14T18:06:17.495Z"
   },
   {
    "duration": 52,
    "start_time": "2024-05-14T18:06:17.734Z"
   },
   {
    "duration": 52,
    "start_time": "2024-05-14T18:06:17.788Z"
   },
   {
    "duration": 53,
    "start_time": "2024-05-14T18:06:17.842Z"
   },
   {
    "duration": 55,
    "start_time": "2024-05-14T18:06:17.896Z"
   },
   {
    "duration": 51,
    "start_time": "2024-05-14T18:06:17.953Z"
   },
   {
    "duration": 89,
    "start_time": "2024-05-14T18:06:18.006Z"
   },
   {
    "duration": 53,
    "start_time": "2024-05-14T18:06:18.097Z"
   },
   {
    "duration": 55,
    "start_time": "2024-05-14T18:06:18.152Z"
   },
   {
    "duration": 53,
    "start_time": "2024-05-14T18:06:18.208Z"
   },
   {
    "duration": 5412,
    "start_time": "2024-05-14T18:07:11.147Z"
   },
   {
    "duration": 227,
    "start_time": "2024-05-14T18:07:16.561Z"
   },
   {
    "duration": 50,
    "start_time": "2024-05-14T18:07:16.790Z"
   },
   {
    "duration": 52,
    "start_time": "2024-05-14T18:07:16.842Z"
   },
   {
    "duration": 53,
    "start_time": "2024-05-14T18:07:16.896Z"
   },
   {
    "duration": 53,
    "start_time": "2024-05-14T18:07:16.951Z"
   },
   {
    "duration": 50,
    "start_time": "2024-05-14T18:07:17.006Z"
   },
   {
    "duration": 88,
    "start_time": "2024-05-14T18:07:17.058Z"
   },
   {
    "duration": 51,
    "start_time": "2024-05-14T18:07:17.148Z"
   },
   {
    "duration": 55,
    "start_time": "2024-05-14T18:07:17.202Z"
   },
   {
    "duration": 53,
    "start_time": "2024-05-14T18:07:17.258Z"
   },
   {
    "duration": 51,
    "start_time": "2024-05-14T18:11:13.690Z"
   },
   {
    "duration": 4819,
    "start_time": "2024-05-14T20:53:11.123Z"
   },
   {
    "duration": 240,
    "start_time": "2024-05-14T20:53:15.944Z"
   },
   {
    "duration": 53,
    "start_time": "2024-05-14T20:53:16.185Z"
   },
   {
    "duration": 53,
    "start_time": "2024-05-14T20:53:16.239Z"
   },
   {
    "duration": 54,
    "start_time": "2024-05-14T20:53:16.293Z"
   },
   {
    "duration": 53,
    "start_time": "2024-05-14T20:53:16.348Z"
   },
   {
    "duration": 52,
    "start_time": "2024-05-14T20:53:16.402Z"
   },
   {
    "duration": 91,
    "start_time": "2024-05-14T20:53:16.455Z"
   },
   {
    "duration": 53,
    "start_time": "2024-05-14T20:53:16.547Z"
   },
   {
    "duration": 55,
    "start_time": "2024-05-14T20:53:16.601Z"
   },
   {
    "duration": 53,
    "start_time": "2024-05-14T20:53:16.658Z"
   },
   {
    "duration": 4900,
    "start_time": "2024-05-14T20:59:06.409Z"
   },
   {
    "duration": 254,
    "start_time": "2024-05-14T20:59:11.312Z"
   },
   {
    "duration": 54,
    "start_time": "2024-05-14T20:59:11.567Z"
   },
   {
    "duration": 53,
    "start_time": "2024-05-14T20:59:11.622Z"
   },
   {
    "duration": 54,
    "start_time": "2024-05-14T20:59:11.676Z"
   },
   {
    "duration": 54,
    "start_time": "2024-05-14T20:59:11.732Z"
   },
   {
    "duration": 53,
    "start_time": "2024-05-14T20:59:11.788Z"
   },
   {
    "duration": 92,
    "start_time": "2024-05-14T20:59:15.604Z"
   },
   {
    "duration": 5389,
    "start_time": "2024-05-14T21:01:42.000Z"
   },
   {
    "duration": 242,
    "start_time": "2024-05-14T21:01:47.391Z"
   },
   {
    "duration": 54,
    "start_time": "2024-05-14T21:01:47.634Z"
   },
   {
    "duration": 54,
    "start_time": "2024-05-14T21:01:47.690Z"
   },
   {
    "duration": 54,
    "start_time": "2024-05-14T21:01:47.746Z"
   },
   {
    "duration": 55,
    "start_time": "2024-05-14T21:01:47.802Z"
   },
   {
    "duration": 53,
    "start_time": "2024-05-14T21:01:47.858Z"
   },
   {
    "duration": 88,
    "start_time": "2024-05-14T21:01:47.913Z"
   },
   {
    "duration": 54,
    "start_time": "2024-05-14T21:01:48.002Z"
   },
   {
    "duration": 58,
    "start_time": "2024-05-14T21:01:48.058Z"
   },
   {
    "duration": 55,
    "start_time": "2024-05-14T21:01:48.118Z"
   }
  ],
  "kernelspec": {
   "display_name": "Python 3 (ipykernel)",
   "language": "python",
   "name": "python3"
  },
  "language_info": {
   "codemirror_mode": {
    "name": "ipython",
    "version": 3
   },
   "file_extension": ".py",
   "mimetype": "text/x-python",
   "name": "python",
   "nbconvert_exporter": "python",
   "pygments_lexer": "ipython3",
   "version": "3.9.5"
  },
  "toc": {
   "base_numbering": 1,
   "nav_menu": {},
   "number_sections": true,
   "sideBar": true,
   "skip_h1_title": true,
   "title_cell": "Table of Contents",
   "title_sidebar": "Contents",
   "toc_cell": false,
   "toc_position": {},
   "toc_section_display": true,
   "toc_window_display": true
  }
 },
 "nbformat": 4,
 "nbformat_minor": 2
}
